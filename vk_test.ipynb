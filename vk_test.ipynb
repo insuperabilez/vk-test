{
  "nbformat": 4,
  "nbformat_minor": 0,
  "metadata": {
    "colab": {
      "provenance": [],
      "gpuType": "T4",
      "authorship_tag": "ABX9TyM8kA2ABypM/Ay6bnr+E/Jg",
      "include_colab_link": true
    },
    "kernelspec": {
      "name": "python3",
      "display_name": "Python 3"
    },
    "language_info": {
      "name": "python"
    },
    "accelerator": "GPU",
    "widgets": {
      "application/vnd.jupyter.widget-state+json": {
        "a70e01f5e29c4dd9a645e7294fa5938a": {
          "model_module": "catboost-widget",
          "model_name": "CatboostWidgetModel",
          "model_module_version": "^1.0.0",
          "state": {
            "_dom_classes": [],
            "_model_module": "catboost-widget",
            "_model_module_version": "^1.0.0",
            "_model_name": "CatboostWidgetModel",
            "_view_count": null,
            "_view_module": "catboost-widget",
            "_view_module_version": "^1.0.0",
            "_view_name": "CatboostWidgetView",
            "data": {
              "YetiRank": {
                "path": "YetiRank",
                "name": "YetiRank",
                "content": {
                  "passed_iterations": 1999,
                  "total_iterations": 2000,
                  "data": {
                    "iterations": [
                      {
                        "iteration": 0,
                        "passed_time": 0.09823943368,
                        "remaining_time": 196.3806279,
                        "test": [
                          0.1392213931,
                          0.8843379263
                        ]
                      },
                      {
                        "iteration": 4,
                        "passed_time": 0.3553861537,
                        "remaining_time": 141.7990753,
                        "test": [
                          0.1603929708,
                          0.9106022774
                        ]
                      },
                      {
                        "iteration": 8,
                        "passed_time": 0.618395175,
                        "remaining_time": 136.8027548,
                        "test": [
                          0.1605340344,
                          0.9121974486
                        ]
                      },
                      {
                        "iteration": 12,
                        "passed_time": 0.8748319425,
                        "remaining_time": 133.7146977,
                        "test": [
                          0.1474164156,
                          0.9076580082
                        ]
                      },
                      {
                        "iteration": 16,
                        "passed_time": 1.134152646,
                        "remaining_time": 132.2955704,
                        "test": [
                          0.1537119389,
                          0.9142455895
                        ]
                      },
                      {
                        "iteration": 20,
                        "passed_time": 1.394710131,
                        "remaining_time": 131.4348261,
                        "test": [
                          0.1516015344,
                          0.9057179726
                        ]
                      },
                      {
                        "iteration": 24,
                        "passed_time": 1.656567916,
                        "remaining_time": 130.8688654,
                        "test": [
                          0.1591328011,
                          0.9091454907
                        ]
                      },
                      {
                        "iteration": 28,
                        "passed_time": 1.895584874,
                        "remaining_time": 128.8344064,
                        "test": [
                          0.161161966,
                          0.9098972948
                        ]
                      },
                      {
                        "iteration": 32,
                        "passed_time": 2.154057824,
                        "remaining_time": 128.3949012,
                        "test": [
                          0.1631335093,
                          0.914238419
                        ]
                      },
                      {
                        "iteration": 36,
                        "passed_time": 2.413162043,
                        "remaining_time": 128.0280295,
                        "test": [
                          0.1655106996,
                          0.9173486645
                        ]
                      },
                      {
                        "iteration": 40,
                        "passed_time": 2.534657725,
                        "remaining_time": 121.1071825,
                        "test": [
                          0.1670088775,
                          0.9197808921
                        ]
                      },
                      {
                        "iteration": 44,
                        "passed_time": 2.654566138,
                        "remaining_time": 115.3261511,
                        "test": [
                          0.1624623979,
                          0.9185798026
                        ]
                      },
                      {
                        "iteration": 48,
                        "passed_time": 2.784929289,
                        "remaining_time": 110.8856539,
                        "test": [
                          0.1727283269,
                          0.9278359195
                        ]
                      },
                      {
                        "iteration": 52,
                        "passed_time": 2.901392062,
                        "remaining_time": 106.5851008,
                        "test": [
                          0.1659954253,
                          0.9180326579
                        ]
                      },
                      {
                        "iteration": 56,
                        "passed_time": 3.041582601,
                        "remaining_time": 103.6806139,
                        "test": [
                          0.1649644174,
                          0.9148386473
                        ]
                      },
                      {
                        "iteration": 60,
                        "passed_time": 3.16338147,
                        "remaining_time": 100.5540438,
                        "test": [
                          0.1615192448,
                          0.9110672258
                        ]
                      },
                      {
                        "iteration": 64,
                        "passed_time": 3.282651908,
                        "remaining_time": 97.72202219,
                        "test": [
                          0.1615369477,
                          0.9146379119
                        ]
                      },
                      {
                        "iteration": 68,
                        "passed_time": 3.413337896,
                        "remaining_time": 95.52399242,
                        "test": [
                          0.1659255783,
                          0.9200376187
                        ]
                      },
                      {
                        "iteration": 72,
                        "passed_time": 3.542391412,
                        "remaining_time": 93.50942808,
                        "test": [
                          0.1673642539,
                          0.9199152915
                        ]
                      },
                      {
                        "iteration": 76,
                        "passed_time": 3.67391006,
                        "remaining_time": 91.75232528,
                        "test": [
                          0.1694617679,
                          0.9206643809
                        ]
                      },
                      {
                        "iteration": 80,
                        "passed_time": 3.817747989,
                        "remaining_time": 90.44763445,
                        "test": [
                          0.1711328473,
                          0.9226925402
                        ]
                      },
                      {
                        "iteration": 84,
                        "passed_time": 3.956390851,
                        "remaining_time": 89.13515859,
                        "test": [
                          0.1704158566,
                          0.9189935012
                        ]
                      },
                      {
                        "iteration": 88,
                        "passed_time": 4.088233353,
                        "remaining_time": 87.78217907,
                        "test": [
                          0.1710750275,
                          0.9185996256
                        ]
                      },
                      {
                        "iteration": 92,
                        "passed_time": 4.219592238,
                        "remaining_time": 86.52432685,
                        "test": [
                          0.1724066162,
                          0.918788372
                        ]
                      },
                      {
                        "iteration": 96,
                        "passed_time": 4.350477641,
                        "remaining_time": 85.35009227,
                        "test": [
                          0.1719675275,
                          0.918443503
                        ]
                      },
                      {
                        "iteration": 100,
                        "passed_time": 4.473425565,
                        "remaining_time": 84.10925889,
                        "test": [
                          0.1723599314,
                          0.9183800493
                        ]
                      },
                      {
                        "iteration": 104,
                        "passed_time": 4.590018985,
                        "remaining_time": 82.83891407,
                        "test": [
                          0.1718148568,
                          0.9185558326
                        ]
                      },
                      {
                        "iteration": 108,
                        "passed_time": 4.71046537,
                        "remaining_time": 81.72009187,
                        "test": [
                          0.1739066162,
                          0.9217219135
                        ]
                      },
                      {
                        "iteration": 112,
                        "passed_time": 4.84381138,
                        "remaining_time": 80.88736349,
                        "test": [
                          0.1700349193,
                          0.9201130358
                        ]
                      },
                      {
                        "iteration": 116,
                        "passed_time": 4.970657811,
                        "remaining_time": 79.99785178,
                        "test": [
                          0.1713099193,
                          0.9211965956
                        ]
                      },
                      {
                        "iteration": 120,
                        "passed_time": 5.09283754,
                        "remaining_time": 79.08629535,
                        "test": [
                          0.1723808789,
                          0.9210782056
                        ]
                      },
                      {
                        "iteration": 124,
                        "passed_time": 5.220800393,
                        "remaining_time": 78.3120059,
                        "test": [
                          0.1719516821,
                          0.9215778633
                        ]
                      },
                      {
                        "iteration": 128,
                        "passed_time": 5.339199777,
                        "remaining_time": 77.43909134,
                        "test": [
                          0.1767959991,
                          0.9254926487
                        ]
                      },
                      {
                        "iteration": 132,
                        "passed_time": 5.463763522,
                        "remaining_time": 76.69809396,
                        "test": [
                          0.1734311818,
                          0.9198115253
                        ]
                      },
                      {
                        "iteration": 136,
                        "passed_time": 5.584946294,
                        "remaining_time": 75.94711639,
                        "test": [
                          0.1770759366,
                          0.9224285863
                        ]
                      },
                      {
                        "iteration": 140,
                        "passed_time": 5.713385843,
                        "remaining_time": 75.3275481,
                        "test": [
                          0.1756514623,
                          0.9244618194
                        ]
                      },
                      {
                        "iteration": 144,
                        "passed_time": 5.853425749,
                        "remaining_time": 74.88348113,
                        "test": [
                          0.1729707228,
                          0.920363674
                        ]
                      },
                      {
                        "iteration": 148,
                        "passed_time": 5.981838532,
                        "remaining_time": 74.31129612,
                        "test": [
                          0.1718242992,
                          0.9200893849
                        ]
                      },
                      {
                        "iteration": 152,
                        "passed_time": 6.105397817,
                        "remaining_time": 73.70372397,
                        "test": [
                          0.1731109366,
                          0.9233906558
                        ]
                      },
                      {
                        "iteration": 156,
                        "passed_time": 6.233170634,
                        "remaining_time": 73.17027694,
                        "test": [
                          0.1729724297,
                          0.9229263019
                        ]
                      },
                      {
                        "iteration": 160,
                        "passed_time": 6.357062143,
                        "remaining_time": 72.61265392,
                        "test": [
                          0.1726186172,
                          0.9217247862
                        ]
                      },
                      {
                        "iteration": 164,
                        "passed_time": 6.48054348,
                        "remaining_time": 72.0714987,
                        "test": [
                          0.1753311797,
                          0.9235372013
                        ]
                      },
                      {
                        "iteration": 168,
                        "passed_time": 6.601595272,
                        "remaining_time": 71.52379256,
                        "test": [
                          0.171485518,
                          0.921929098
                        ]
                      },
                      {
                        "iteration": 172,
                        "passed_time": 6.727762231,
                        "remaining_time": 71.04983582,
                        "test": [
                          0.1743583235,
                          0.9229551792
                        ]
                      },
                      {
                        "iteration": 176,
                        "passed_time": 6.860325149,
                        "remaining_time": 70.65747315,
                        "test": [
                          0.1747745735,
                          0.9261707218
                        ]
                      },
                      {
                        "iteration": 180,
                        "passed_time": 6.988093796,
                        "remaining_time": 70.22841224,
                        "test": [
                          0.1738550367,
                          0.9257520458
                        ]
                      },
                      {
                        "iteration": 184,
                        "passed_time": 7.112053172,
                        "remaining_time": 69.77500815,
                        "test": [
                          0.1759853766,
                          0.9267828571
                        ]
                      },
                      {
                        "iteration": 188,
                        "passed_time": 7.236244083,
                        "remaining_time": 69.33776738,
                        "test": [
                          0.175695761,
                          0.9270394505
                        ]
                      },
                      {
                        "iteration": 192,
                        "passed_time": 7.352483252,
                        "remaining_time": 68.83905304,
                        "test": [
                          0.1758599742,
                          0.9268265003
                        ]
                      },
                      {
                        "iteration": 196,
                        "passed_time": 7.473346121,
                        "remaining_time": 68.3981881,
                        "test": [
                          0.1747762242,
                          0.9264185307
                        ]
                      },
                      {
                        "iteration": 200,
                        "passed_time": 7.593458174,
                        "remaining_time": 67.96333958,
                        "test": [
                          0.1767552977,
                          0.923787564
                        ]
                      },
                      {
                        "iteration": 204,
                        "passed_time": 7.711889417,
                        "remaining_time": 67.52605612,
                        "test": [
                          0.1724159182,
                          0.9173425489
                        ]
                      },
                      {
                        "iteration": 208,
                        "passed_time": 7.852993063,
                        "remaining_time": 67.29526591,
                        "test": [
                          0.173027011,
                          0.9179276329
                        ]
                      },
                      {
                        "iteration": 212,
                        "passed_time": 7.977151002,
                        "remaining_time": 66.92567531,
                        "test": [
                          0.1714963814,
                          0.9171293744
                        ]
                      },
                      {
                        "iteration": 216,
                        "passed_time": 8.099972076,
                        "remaining_time": 66.55414844,
                        "test": [
                          0.1723177352,
                          0.9176907147
                        ]
                      },
                      {
                        "iteration": 220,
                        "passed_time": 8.216318343,
                        "remaining_time": 66.13950377,
                        "test": [
                          0.1732117033,
                          0.9180584769
                        ]
                      },
                      {
                        "iteration": 224,
                        "passed_time": 8.337858572,
                        "remaining_time": 65.77643984,
                        "test": [
                          0.17188178,
                          0.9168544632
                        ]
                      },
                      {
                        "iteration": 228,
                        "passed_time": 8.46103751,
                        "remaining_time": 65.4344866,
                        "test": [
                          0.1733742658,
                          0.9175448688
                        ]
                      },
                      {
                        "iteration": 232,
                        "passed_time": 8.578100151,
                        "remaining_time": 65.0536608,
                        "test": [
                          0.1740801314,
                          0.9206636531
                        ]
                      },
                      {
                        "iteration": 236,
                        "passed_time": 8.698918495,
                        "remaining_time": 64.7096764,
                        "test": [
                          0.1745834182,
                          0.9181289241
                        ]
                      },
                      {
                        "iteration": 240,
                        "passed_time": 8.833612169,
                        "remaining_time": 64.47437263,
                        "test": [
                          0.1782926939,
                          0.9262288386
                        ]
                      },
                      {
                        "iteration": 244,
                        "passed_time": 8.959558184,
                        "remaining_time": 64.1796923,
                        "test": [
                          0.1747971221,
                          0.9248402259
                        ]
                      },
                      {
                        "iteration": 248,
                        "passed_time": 9.085800353,
                        "remaining_time": 63.89251573,
                        "test": [
                          0.1745284043,
                          0.9218721339
                        ]
                      },
                      {
                        "iteration": 252,
                        "passed_time": 9.20434861,
                        "remaining_time": 63.55730048,
                        "test": [
                          0.1745284043,
                          0.9212231424
                        ]
                      },
                      {
                        "iteration": 256,
                        "passed_time": 9.324710719,
                        "remaining_time": 63.24113145,
                        "test": [
                          0.1808633557,
                          0.9272584871
                        ]
                      },
                      {
                        "iteration": 260,
                        "passed_time": 9.448365042,
                        "remaining_time": 62.95289965,
                        "test": [
                          0.1782796057,
                          0.9232065394
                        ]
                      },
                      {
                        "iteration": 264,
                        "passed_time": 9.57110716,
                        "remaining_time": 62.66366386,
                        "test": [
                          0.1786958557,
                          0.9248604218
                        ]
                      },
                      {
                        "iteration": 268,
                        "passed_time": 9.692907717,
                        "remaining_time": 62.37332067,
                        "test": [
                          0.1769465477,
                          0.923928366
                        ]
                      },
                      {
                        "iteration": 272,
                        "passed_time": 9.811122287,
                        "remaining_time": 62.06523147,
                        "test": [
                          0.1744722884,
                          0.9208083206
                        ]
                      },
                      {
                        "iteration": 276,
                        "passed_time": 9.956380087,
                        "remaining_time": 61.93084076,
                        "test": [
                          0.1728341102,
                          0.9172157888
                        ]
                      },
                      {
                        "iteration": 280,
                        "passed_time": 10.07724764,
                        "remaining_time": 61.64693487,
                        "test": [
                          0.1763052977,
                          0.9201475364
                        ]
                      },
                      {
                        "iteration": 284,
                        "passed_time": 10.2090401,
                        "remaining_time": 61.43334659,
                        "test": [
                          0.1774514852,
                          0.9217192299
                        ]
                      },
                      {
                        "iteration": 288,
                        "passed_time": 10.33010644,
                        "remaining_time": 61.15851944,
                        "test": [
                          0.1738177352,
                          0.9190852133
                        ]
                      },
                      {
                        "iteration": 292,
                        "passed_time": 10.45144424,
                        "remaining_time": 60.88947206,
                        "test": [
                          0.1764014852,
                          0.9229589403
                        ]
                      },
                      {
                        "iteration": 296,
                        "passed_time": 10.56886643,
                        "remaining_time": 60.60195126,
                        "test": [
                          0.1749014852,
                          0.9209837001
                        ]
                      },
                      {
                        "iteration": 300,
                        "passed_time": 10.68639916,
                        "remaining_time": 60.31957531,
                        "test": [
                          0.1740670432,
                          0.9186401767
                        ]
                      },
                      {
                        "iteration": 304,
                        "passed_time": 10.80869541,
                        "remaining_time": 60.06799579,
                        "test": [
                          0.1754288651,
                          0.9210086233
                        ]
                      },
                      {
                        "iteration": 308,
                        "passed_time": 10.95085438,
                        "remaining_time": 59.92846202,
                        "test": [
                          0.1739288651,
                          0.9178381339
                        ]
                      },
                      {
                        "iteration": 312,
                        "passed_time": 11.07166601,
                        "remaining_time": 59.67380371,
                        "test": [
                          0.1705621057,
                          0.914383081
                        ]
                      },
                      {
                        "iteration": 316,
                        "passed_time": 11.19356145,
                        "remaining_time": 59.42827735,
                        "test": [
                          0.1700347259,
                          0.9145616577
                        ]
                      },
                      {
                        "iteration": 320,
                        "passed_time": 11.31142475,
                        "remaining_time": 59.16474194,
                        "test": [
                          0.1715721221,
                          0.9152583307
                        ]
                      },
                      {
                        "iteration": 324,
                        "passed_time": 11.43701743,
                        "remaining_time": 58.9446283,
                        "test": [
                          0.1708628463,
                          0.9147156548
                        ]
                      },
                      {
                        "iteration": 328,
                        "passed_time": 11.55758489,
                        "remaining_time": 58.7012898,
                        "test": [
                          0.1716458557,
                          0.9149456269
                        ]
                      },
                      {
                        "iteration": 332,
                        "passed_time": 11.67964837,
                        "remaining_time": 58.46838991,
                        "test": [
                          0.1725801314,
                          0.9162914906
                        ]
                      },
                      {
                        "iteration": 336,
                        "passed_time": 11.79851922,
                        "remaining_time": 58.22236636,
                        "test": [
                          0.1714963814,
                          0.9156421847
                        ]
                      },
                      {
                        "iteration": 340,
                        "passed_time": 11.92810768,
                        "remaining_time": 58.03146818,
                        "test": [
                          0.1727713814,
                          0.9167764528
                        ]
                      },
                      {
                        "iteration": 344,
                        "passed_time": 12.06453965,
                        "remaining_time": 57.87482062,
                        "test": [
                          0.1733371057,
                          0.9168165432
                        ]
                      },
                      {
                        "iteration": 348,
                        "passed_time": 12.18612596,
                        "remaining_time": 57.64840678,
                        "test": [
                          0.1748371057,
                          0.9204514989
                        ]
                      },
                      {
                        "iteration": 352,
                        "passed_time": 12.30576102,
                        "remaining_time": 57.41526457,
                        "test": [
                          0.1733371057,
                          0.9169783637
                        ]
                      },
                      {
                        "iteration": 356,
                        "passed_time": 12.50020724,
                        "remaining_time": 57.52896496,
                        "test": [
                          0.1716274798,
                          0.9159737098
                        ]
                      },
                      {
                        "iteration": 360,
                        "passed_time": 12.72560147,
                        "remaining_time": 57.77634575,
                        "test": [
                          0.1714232829,
                          0.9192078054
                        ]
                      },
                      {
                        "iteration": 364,
                        "passed_time": 12.99385284,
                        "remaining_time": 58.2053408,
                        "test": [
                          0.1725070329,
                          0.9199567866
                        ]
                      },
                      {
                        "iteration": 368,
                        "passed_time": 13.255443,
                        "remaining_time": 58.58977653,
                        "test": [
                          0.1727112298,
                          0.9165022684
                        ]
                      },
                      {
                        "iteration": 372,
                        "passed_time": 13.52338633,
                        "remaining_time": 58.98806852,
                        "test": [
                          0.1712626625,
                          0.9162295648
                        ]
                      },
                      {
                        "iteration": 376,
                        "passed_time": 13.79100084,
                        "remaining_time": 59.37080732,
                        "test": [
                          0.1715744079,
                          0.9161086078
                        ]
                      },
                      {
                        "iteration": 380,
                        "passed_time": 14.03473709,
                        "remaining_time": 59.63842349,
                        "test": [
                          0.1714876625,
                          0.9187953622
                        ]
                      },
                      {
                        "iteration": 384,
                        "passed_time": 14.27629224,
                        "remaining_time": 59.88626484,
                        "test": [
                          0.1687126625,
                          0.9143071068
                        ]
                      },
                      {
                        "iteration": 388,
                        "passed_time": 14.55308698,
                        "remaining_time": 60.26998234,
                        "test": [
                          0.16963385,
                          0.9147933381
                        ]
                      },
                      {
                        "iteration": 392,
                        "passed_time": 14.74120883,
                        "remaining_time": 60.27766562,
                        "test": [
                          0.16813385,
                          0.9108472957
                        ]
                      },
                      {
                        "iteration": 396,
                        "passed_time": 14.85606504,
                        "remaining_time": 59.98557243,
                        "test": [
                          0.16940885,
                          0.9122576202
                        ]
                      },
                      {
                        "iteration": 400,
                        "passed_time": 14.98429799,
                        "remaining_time": 59.75035534,
                        "test": [
                          0.1692438237,
                          0.9123656838
                        ]
                      },
                      {
                        "iteration": 404,
                        "passed_time": 15.12098382,
                        "remaining_time": 59.55054121,
                        "test": [
                          0.1684608143,
                          0.9121986643
                        ]
                      },
                      {
                        "iteration": 408,
                        "passed_time": 15.24281945,
                        "remaining_time": 59.29419498,
                        "test": [
                          0.1695714125,
                          0.9125698681
                        ]
                      },
                      {
                        "iteration": 412,
                        "passed_time": 15.36083513,
                        "remaining_time": 59.02577565,
                        "test": [
                          0.1695714125,
                          0.9126130432
                        ]
                      },
                      {
                        "iteration": 416,
                        "passed_time": 15.47974354,
                        "remaining_time": 58.76363075,
                        "test": [
                          0.1704926,
                          0.912961257
                        ]
                      },
                      {
                        "iteration": 420,
                        "passed_time": 15.5994327,
                        "remaining_time": 58.50713593,
                        "test": [
                          0.1695714125,
                          0.9124604366
                        ]
                      },
                      {
                        "iteration": 424,
                        "passed_time": 15.72604508,
                        "remaining_time": 58.27887294,
                        "test": [
                          0.17307635,
                          0.9153536534
                        ]
                      },
                      {
                        "iteration": 428,
                        "passed_time": 15.84962542,
                        "remaining_time": 58.04140219,
                        "test": [
                          0.1716972884,
                          0.9150188615
                        ]
                      },
                      {
                        "iteration": 432,
                        "passed_time": 15.98860676,
                        "remaining_time": 57.86177087,
                        "test": [
                          0.1719926,
                          0.9147490131
                        ]
                      },
                      {
                        "iteration": 436,
                        "passed_time": 16.13346695,
                        "remaining_time": 57.70391039,
                        "test": [
                          0.1719926,
                          0.9149983574
                        ]
                      },
                      {
                        "iteration": 440,
                        "passed_time": 16.25901851,
                        "remaining_time": 57.4780269,
                        "test": [
                          0.172410792,
                          0.9149991471
                        ]
                      },
                      {
                        "iteration": 444,
                        "passed_time": 16.38207128,
                        "remaining_time": 57.24521537,
                        "test": [
                          0.171327042,
                          0.9146002147
                        ]
                      },
                      {
                        "iteration": 448,
                        "passed_time": 16.50862414,
                        "remaining_time": 57.02644999,
                        "test": [
                          0.1721154804,
                          0.915209073
                        ]
                      },
                      {
                        "iteration": 452,
                        "passed_time": 16.63427111,
                        "remaining_time": 56.80621944,
                        "test": [
                          0.1736154804,
                          0.9187691744
                        ]
                      },
                      {
                        "iteration": 456,
                        "passed_time": 16.75120948,
                        "remaining_time": 56.55824121,
                        "test": [
                          0.1736154804,
                          0.9187924334
                        ]
                      },
                      {
                        "iteration": 460,
                        "passed_time": 16.87392581,
                        "remaining_time": 56.33182608,
                        "test": [
                          0.1743247561,
                          0.9194165409
                        ]
                      },
                      {
                        "iteration": 464,
                        "passed_time": 17.00123246,
                        "remaining_time": 56.12234801,
                        "test": [
                          0.1743247561,
                          0.919551967
                        ]
                      },
                      {
                        "iteration": 468,
                        "passed_time": 17.13885952,
                        "remaining_time": 55.94796146,
                        "test": [
                          0.1749903141,
                          0.9190134362
                        ]
                      },
                      {
                        "iteration": 472,
                        "passed_time": 17.2556346,
                        "remaining_time": 55.70687955,
                        "test": [
                          0.1749903141,
                          0.9190134362
                        ]
                      },
                      {
                        "iteration": 476,
                        "passed_time": 17.37931253,
                        "remaining_time": 55.48992241,
                        "test": [
                          0.1740560384,
                          0.915841299
                        ]
                      },
                      {
                        "iteration": 480,
                        "passed_time": 17.49593234,
                        "remaining_time": 55.25222706,
                        "test": [
                          0.1725317304,
                          0.9181851952
                        ]
                      },
                      {
                        "iteration": 484,
                        "passed_time": 17.61454777,
                        "remaining_time": 55.02276264,
                        "test": [
                          0.1736154804,
                          0.9181037445
                        ]
                      },
                      {
                        "iteration": 488,
                        "passed_time": 17.76097518,
                        "remaining_time": 54.88105009,
                        "test": [
                          0.1748904804,
                          0.9193296044
                        ]
                      },
                      {
                        "iteration": 492,
                        "passed_time": 17.88890406,
                        "remaining_time": 54.68271485,
                        "test": [
                          0.1743247561,
                          0.9176147736
                        ]
                      },
                      {
                        "iteration": 496,
                        "passed_time": 18.03800756,
                        "remaining_time": 54.54954802,
                        "test": [
                          0.1710317304,
                          0.9142822448
                        ]
                      },
                      {
                        "iteration": 500,
                        "passed_time": 18.1858236,
                        "remaining_time": 54.41227462,
                        "test": [
                          0.1748904804,
                          0.9178288224
                        ]
                      },
                      {
                        "iteration": 504,
                        "passed_time": 18.31060857,
                        "remaining_time": 54.20665308,
                        "test": [
                          0.1738067304,
                          0.9174626102
                        ]
                      },
                      {
                        "iteration": 508,
                        "passed_time": 18.44333401,
                        "remaining_time": 54.02556189,
                        "test": [
                          0.1727229804,
                          0.917132259
                        ]
                      },
                      {
                        "iteration": 512,
                        "passed_time": 18.57164426,
                        "remaining_time": 53.83242693,
                        "test": [
                          0.1738067304,
                          0.9176107236
                        ]
                      },
                      {
                        "iteration": 516,
                        "passed_time": 18.69755812,
                        "remaining_time": 53.63342107,
                        "test": [
                          0.1729722884,
                          0.9154880112
                        ]
                      },
                      {
                        "iteration": 520,
                        "passed_time": 18.82826999,
                        "remaining_time": 53.449158,
                        "test": [
                          0.1729722884,
                          0.9156547872
                        ]
                      },
                      {
                        "iteration": 524,
                        "passed_time": 18.9619262,
                        "remaining_time": 53.27398312,
                        "test": [
                          0.1717410061,
                          0.9151912141
                        ]
                      },
                      {
                        "iteration": 528,
                        "passed_time": 19.11593716,
                        "remaining_time": 53.15603698,
                        "test": [
                          0.1717410061,
                          0.9151952175
                        ]
                      },
                      {
                        "iteration": 532,
                        "passed_time": 19.25319703,
                        "remaining_time": 52.99144474,
                        "test": [
                          0.1728247561,
                          0.9155460951
                        ]
                      },
                      {
                        "iteration": 536,
                        "passed_time": 19.37675031,
                        "remaining_time": 52.7899175,
                        "test": [
                          0.1726621936,
                          0.9155592779
                        ]
                      },
                      {
                        "iteration": 540,
                        "passed_time": 19.50234949,
                        "remaining_time": 52.59506083,
                        "test": [
                          0.1719529179,
                          0.9150447303
                        ]
                      },
                      {
                        "iteration": 544,
                        "passed_time": 19.62959447,
                        "remaining_time": 52.40561459,
                        "test": [
                          0.1693691679,
                          0.9105107812
                        ]
                      },
                      {
                        "iteration": 548,
                        "passed_time": 19.75307067,
                        "remaining_time": 52.20711392,
                        "test": [
                          0.1714575052,
                          0.9119151711
                        ]
                      },
                      {
                        "iteration": 552,
                        "passed_time": 19.87476672,
                        "remaining_time": 52.00504059,
                        "test": [
                          0.1695412552,
                          0.9051828584
                        ]
                      },
                      {
                        "iteration": 556,
                        "passed_time": 19.99215901,
                        "remaining_time": 51.79297209,
                        "test": [
                          0.1707459436,
                          0.9085331924
                        ]
                      },
                      {
                        "iteration": 560,
                        "passed_time": 20.13481367,
                        "remaining_time": 51.64705326,
                        "test": [
                          0.1707459436,
                          0.9086325881
                        ]
                      },
                      {
                        "iteration": 564,
                        "passed_time": 20.26510322,
                        "remaining_time": 51.46977544,
                        "test": [
                          0.1687410061,
                          0.9072899545
                        ]
                      },
                      {
                        "iteration": 568,
                        "passed_time": 20.38368993,
                        "remaining_time": 51.26372633,
                        "test": [
                          0.1670497561,
                          0.9032776647
                        ]
                      },
                      {
                        "iteration": 572,
                        "passed_time": 20.50056204,
                        "remaining_time": 51.05462833,
                        "test": [
                          0.1705363177,
                          0.9111238549
                        ]
                      },
                      {
                        "iteration": 576,
                        "passed_time": 20.61737652,
                        "remaining_time": 50.84666688,
                        "test": [
                          0.1674660061,
                          0.9065665713
                        ]
                      },
                      {
                        "iteration": 580,
                        "passed_time": 20.73865621,
                        "remaining_time": 50.65086602,
                        "test": [
                          0.1674660061,
                          0.9066318195
                        ]
                      },
                      {
                        "iteration": 584,
                        "passed_time": 20.85727761,
                        "remaining_time": 50.44965439,
                        "test": [
                          0.1687410061,
                          0.9075463776
                        ]
                      },
                      {
                        "iteration": 588,
                        "passed_time": 20.97583157,
                        "remaining_time": 50.24940297,
                        "test": [
                          0.1687410061,
                          0.9075463776
                        ]
                      },
                      {
                        "iteration": 592,
                        "passed_time": 21.11016479,
                        "remaining_time": 50.08769285,
                        "test": [
                          0.1687410061,
                          0.9076141174
                        ]
                      },
                      {
                        "iteration": 596,
                        "passed_time": 21.25792012,
                        "remaining_time": 49.95789268,
                        "test": [
                          0.1687410061,
                          0.9077236773
                        ]
                      },
                      {
                        "iteration": 600,
                        "passed_time": 21.38804898,
                        "remaining_time": 49.78682284,
                        "test": [
                          0.1697601405,
                          0.9112961533
                        ]
                      },
                      {
                        "iteration": 604,
                        "passed_time": 21.51094651,
                        "remaining_time": 49.59962047,
                        "test": [
                          0.1697601405,
                          0.9116243065
                        ]
                      },
                      {
                        "iteration": 608,
                        "passed_time": 21.63007167,
                        "remaining_time": 49.40464646,
                        "test": [
                          0.1682601405,
                          0.9078658642
                        ]
                      },
                      {
                        "iteration": 612,
                        "passed_time": 21.75451865,
                        "remaining_time": 49.22270371,
                        "test": [
                          0.1682601405,
                          0.9076054509
                        ]
                      },
                      {
                        "iteration": 616,
                        "passed_time": 21.87926415,
                        "remaining_time": 49.04217555,
                        "test": [
                          0.1667341256,
                          0.9067267726
                        ]
                      },
                      {
                        "iteration": 620,
                        "passed_time": 22.0018896,
                        "remaining_time": 48.85765822,
                        "test": [
                          0.1654851405,
                          0.9029717059
                        ]
                      },
                      {
                        "iteration": 624,
                        "passed_time": 22.13880226,
                        "remaining_time": 48.70536497,
                        "test": [
                          0.1660031662,
                          0.9033583265
                        ]
                      },
                      {
                        "iteration": 628,
                        "passed_time": 22.26961789,
                        "remaining_time": 48.53997795,
                        "test": [
                          0.1668642021,
                          0.9036240589
                        ]
                      },
                      {
                        "iteration": 632,
                        "passed_time": 22.39192903,
                        "remaining_time": 48.3566619,
                        "test": [
                          0.1683642021,
                          0.9072752476
                        ]
                      },
                      {
                        "iteration": 636,
                        "passed_time": 22.51032753,
                        "remaining_time": 48.16574006,
                        "test": [
                          0.1681467163,
                          0.9069208438
                        ]
                      },
                      {
                        "iteration": 640,
                        "passed_time": 22.62840715,
                        "remaining_time": 47.9750473,
                        "test": [
                          0.1676601547,
                          0.9066146783
                        ]
                      },
                      {
                        "iteration": 644,
                        "passed_time": 22.76001002,
                        "remaining_time": 47.81366446,
                        "test": [
                          0.1645183953,
                          0.9046719452
                        ]
                      },
                      {
                        "iteration": 648,
                        "passed_time": 22.88845131,
                        "remaining_time": 47.64606737,
                        "test": [
                          0.1636596453,
                          0.906580643
                        ]
                      },
                      {
                        "iteration": 652,
                        "passed_time": 23.01254501,
                        "remaining_time": 47.46998182,
                        "test": [
                          0.1657101405,
                          0.9051599607
                        ]
                      },
                      {
                        "iteration": 656,
                        "passed_time": 23.16182729,
                        "remaining_time": 47.34601834,
                        "test": [
                          0.1679974427,
                          0.9094340469
                        ]
                      },
                      {
                        "iteration": 660,
                        "passed_time": 23.31367774,
                        "remaining_time": 47.22695083,
                        "test": [
                          0.1651521311,
                          0.906728404
                        ]
                      },
                      {
                        "iteration": 664,
                        "passed_time": 23.4422946,
                        "remaining_time": 47.06084706,
                        "test": [
                          0.1620972078,
                          0.9019532013
                        ]
                      },
                      {
                        "iteration": 668,
                        "passed_time": 23.57147047,
                        "remaining_time": 46.89630374,
                        "test": [
                          0.1608167788,
                          0.8989722215
                        ]
                      },
                      {
                        "iteration": 672,
                        "passed_time": 23.69754336,
                        "remaining_time": 46.72606247,
                        "test": [
                          0.1592464672,
                          0.9000506663
                        ]
                      },
                      {
                        "iteration": 676,
                        "passed_time": 23.82367886,
                        "remaining_time": 46.55646549,
                        "test": [
                          0.1620214672,
                          0.9045441609
                        ]
                      },
                      {
                        "iteration": 680,
                        "passed_time": 23.94853178,
                        "remaining_time": 46.3848949,
                        "test": [
                          0.1622464672,
                          0.9056135873
                        ]
                      },
                      {
                        "iteration": 684,
                        "passed_time": 24.09055062,
                        "remaining_time": 46.24682345,
                        "test": [
                          0.1610417788,
                          0.9039425448
                        ]
                      },
                      {
                        "iteration": 688,
                        "passed_time": 24.21931485,
                        "remaining_time": 46.08348588,
                        "test": [
                          0.1625417788,
                          0.9078684168
                        ]
                      },
                      {
                        "iteration": 692,
                        "passed_time": 24.3692925,
                        "remaining_time": 45.96055599,
                        "test": [
                          0.1640417788,
                          0.9095608711
                        ]
                      },
                      {
                        "iteration": 696,
                        "passed_time": 24.49587929,
                        "remaining_time": 45.79358782,
                        "test": [
                          0.1589837694,
                          0.9032173188
                        ]
                      },
                      {
                        "iteration": 700,
                        "passed_time": 24.63018559,
                        "remaining_time": 45.64138529,
                        "test": [
                          0.1656175194,
                          0.9115261754
                        ]
                      },
                      {
                        "iteration": 704,
                        "passed_time": 24.87540982,
                        "remaining_time": 45.69312868,
                        "test": [
                          0.1638222078,
                          0.9096397495
                        ]
                      },
                      {
                        "iteration": 708,
                        "passed_time": 25.17671607,
                        "remaining_time": 45.84363955,
                        "test": [
                          0.1628425194,
                          0.9091801117
                        ]
                      },
                      {
                        "iteration": 712,
                        "passed_time": 25.46679532,
                        "remaining_time": 45.96881568,
                        "test": [
                          0.1639549569,
                          0.9095309329
                        ]
                      },
                      {
                        "iteration": 716,
                        "passed_time": 25.74875295,
                        "remaining_time": 46.07482572,
                        "test": [
                          0.1636596453,
                          0.909443885
                        ]
                      },
                      {
                        "iteration": 720,
                        "passed_time": 26.00914105,
                        "remaining_time": 46.13826824,
                        "test": [
                          0.1608846453,
                          0.9041751809
                        ]
                      },
                      {
                        "iteration": 724,
                        "passed_time": 26.29945989,
                        "remaining_time": 46.25077428,
                        "test": [
                          0.1609549569,
                          0.901760661
                        ]
                      },
                      {
                        "iteration": 728,
                        "passed_time": 26.5628933,
                        "remaining_time": 46.31198544,
                        "test": [
                          0.1587190874,
                          0.900950612
                        ]
                      },
                      {
                        "iteration": 732,
                        "passed_time": 26.86018248,
                        "remaining_time": 46.42817354,
                        "test": [
                          0.1595324247,
                          0.9029503439
                        ]
                      },
                      {
                        "iteration": 736,
                        "passed_time": 27.03334973,
                        "remaining_time": 46.32716514,
                        "test": [
                          0.1556736747,
                          0.8972571095
                        ]
                      },
                      {
                        "iteration": 740,
                        "passed_time": 27.16878811,
                        "remaining_time": 46.16127426,
                        "test": [
                          0.1584486747,
                          0.9020352249
                        ]
                      },
                      {
                        "iteration": 744,
                        "passed_time": 27.28717559,
                        "remaining_time": 45.96698706,
                        "test": [
                          0.1575274872,
                          0.9017848902
                        ]
                      },
                      {
                        "iteration": 748,
                        "passed_time": 27.42147805,
                        "remaining_time": 45.80009217,
                        "test": [
                          0.1577010545,
                          0.9010107874
                        ]
                      },
                      {
                        "iteration": 752,
                        "passed_time": 27.54164855,
                        "remaining_time": 45.61014042,
                        "test": [
                          0.1589760545,
                          0.9023878248
                        ]
                      },
                      {
                        "iteration": 756,
                        "passed_time": 27.66169449,
                        "remaining_time": 45.4207216,
                        "test": [
                          0.1581930452,
                          0.9020813686
                        ]
                      },
                      {
                        "iteration": 760,
                        "passed_time": 27.77954237,
                        "remaining_time": 45.22845335,
                        "test": [
                          0.159712443,
                          0.9057878215
                        ]
                      },
                      {
                        "iteration": 764,
                        "passed_time": 27.90009181,
                        "remaining_time": 45.04132468,
                        "test": [
                          0.1621259156,
                          0.9069449972
                        ]
                      },
                      {
                        "iteration": 768,
                        "passed_time": 28.0200792,
                        "remaining_time": 44.85398894,
                        "test": [
                          0.1634606804,
                          0.9074459381
                        ]
                      },
                      {
                        "iteration": 772,
                        "passed_time": 28.1622696,
                        "remaining_time": 44.70259354,
                        "test": [
                          0.1636856804,
                          0.9084335662
                        ]
                      },
                      {
                        "iteration": 776,
                        "passed_time": 28.27917752,
                        "remaining_time": 44.51149821,
                        "test": [
                          0.1634683953,
                          0.9083057946
                        ]
                      },
                      {
                        "iteration": 780,
                        "passed_time": 28.3979089,
                        "remaining_time": 44.32400889,
                        "test": [
                          0.1601884578,
                          0.9070419159
                        ]
                      },
                      {
                        "iteration": 784,
                        "passed_time": 28.53150087,
                        "remaining_time": 44.1602211,
                        "test": [
                          0.1625472078,
                          0.9080625093
                        ]
                      },
                      {
                        "iteration": 788,
                        "passed_time": 28.64825644,
                        "remaining_time": 43.97089804,
                        "test": [
                          0.1646052172,
                          0.909678263
                        ]
                      },
                      {
                        "iteration": 792,
                        "passed_time": 28.77449767,
                        "remaining_time": 43.79674487,
                        "test": [
                          0.1607464672,
                          0.9040141687
                        ]
                      },
                      {
                        "iteration": 796,
                        "passed_time": 28.89517961,
                        "remaining_time": 43.6146814,
                        "test": [
                          0.1611019304,
                          0.9041852146
                        ]
                      },
                      {
                        "iteration": 800,
                        "passed_time": 29.01167824,
                        "remaining_time": 43.42696905,
                        "test": [
                          0.1626019304,
                          0.9079567184
                        ]
                      },
                      {
                        "iteration": 804,
                        "passed_time": 29.14992352,
                        "remaining_time": 43.27224671,
                        "test": [
                          0.1621856804,
                          0.9049295858
                        ]
                      },
                      {
                        "iteration": 808,
                        "passed_time": 29.27196342,
                        "remaining_time": 43.09382995,
                        "test": [
                          0.1617048148,
                          0.9049736036
                        ]
                      },
                      {
                        "iteration": 812,
                        "passed_time": 29.38973324,
                        "remaining_time": 42.90973353,
                        "test": [
                          0.1607251264,
                          0.9043452545
                        ]
                      },
                      {
                        "iteration": 816,
                        "passed_time": 29.52225667,
                        "remaining_time": 42.7476495,
                        "test": [
                          0.1630838764,
                          0.9051972854
                        ]
                      },
                      {
                        "iteration": 820,
                        "passed_time": 29.64764446,
                        "remaining_time": 42.57560635,
                        "test": [
                          0.1621626889,
                          0.9047293834
                        ]
                      },
                      {
                        "iteration": 824,
                        "passed_time": 29.76587588,
                        "remaining_time": 42.39382322,
                        "test": [
                          0.1630289531,
                          0.9052866218
                        ]
                      },
                      {
                        "iteration": 828,
                        "passed_time": 29.88619396,
                        "remaining_time": 42.21560088,
                        "test": [
                          0.1654426264,
                          0.9062071011
                        ]
                      },
                      {
                        "iteration": 832,
                        "passed_time": 30.00329023,
                        "remaining_time": 42.033421,
                        "test": [
                          0.1636225518,
                          0.9054582105
                        ]
                      },
                      {
                        "iteration": 836,
                        "passed_time": 30.14093546,
                        "remaining_time": 41.8804157,
                        "test": [
                          0.1643588764,
                          0.9058117109
                        ]
                      },
                      {
                        "iteration": 840,
                        "passed_time": 30.26243026,
                        "remaining_time": 41.70529925,
                        "test": [
                          0.1643588764,
                          0.9059634236
                        ]
                      },
                      {
                        "iteration": 844,
                        "passed_time": 30.38092389,
                        "remaining_time": 41.52658827,
                        "test": [
                          0.1643588764,
                          0.9061689221
                        ]
                      },
                      {
                        "iteration": 848,
                        "passed_time": 30.51653572,
                        "remaining_time": 41.37165207,
                        "test": [
                          0.1647063018,
                          0.9062933998
                        ]
                      },
                      {
                        "iteration": 852,
                        "passed_time": 30.6314219,
                        "remaining_time": 41.18902805,
                        "test": [
                          0.1657900518,
                          0.9068981272
                        ]
                      },
                      {
                        "iteration": 856,
                        "passed_time": 30.7549576,
                        "remaining_time": 41.01857238,
                        "test": [
                          0.1645150518,
                          0.9061863374
                        ]
                      },
                      {
                        "iteration": 860,
                        "passed_time": 30.87364953,
                        "remaining_time": 40.84214497,
                        "test": [
                          0.1634313018,
                          0.9061125307
                        ]
                      },
                      {
                        "iteration": 864,
                        "passed_time": 30.99182193,
                        "remaining_time": 40.66556982,
                        "test": [
                          0.1652513764,
                          0.9070493242
                        ]
                      },
                      {
                        "iteration": 868,
                        "passed_time": 31.11324566,
                        "remaining_time": 40.49376392,
                        "test": [
                          0.1637513764,
                          0.9044164071
                        ]
                      },
                      {
                        "iteration": 872,
                        "passed_time": 31.25007185,
                        "remaining_time": 40.34230352,
                        "test": [
                          0.1637513764,
                          0.9044164071
                        ]
                      },
                      {
                        "iteration": 876,
                        "passed_time": 31.36741948,
                        "remaining_time": 40.1660343,
                        "test": [
                          0.1650263764,
                          0.9050308325
                        ]
                      },
                      {
                        "iteration": 880,
                        "passed_time": 31.49892628,
                        "remaining_time": 40.00828435,
                        "test": [
                          0.1679851122,
                          0.9074903054
                        ]
                      },
                      {
                        "iteration": 884,
                        "passed_time": 31.61481868,
                        "remaining_time": 39.83109924,
                        "test": [
                          0.1674193879,
                          0.9069658312
                        ]
                      },
                      {
                        "iteration": 888,
                        "passed_time": 31.73759566,
                        "remaining_time": 39.6630695,
                        "test": [
                          0.1657356521,
                          0.9067970592
                        ]
                      },
                      {
                        "iteration": 892,
                        "passed_time": 31.85833322,
                        "remaining_time": 39.49291699,
                        "test": [
                          0.1633080776,
                          0.903832542
                        ]
                      },
                      {
                        "iteration": 896,
                        "passed_time": 31.97709868,
                        "remaining_time": 39.32078021,
                        "test": [
                          0.1631987876,
                          0.9033975912
                        ]
                      },
                      {
                        "iteration": 900,
                        "passed_time": 32.09969657,
                        "remaining_time": 39.15379193,
                        "test": [
                          0.1638738018,
                          0.9037829298
                        ]
                      },
                      {
                        "iteration": 904,
                        "passed_time": 32.24454969,
                        "remaining_time": 39.01412366,
                        "test": [
                          0.1679238018,
                          0.9073286304
                        ]
                      },
                      {
                        "iteration": 908,
                        "passed_time": 32.36380223,
                        "remaining_time": 38.84368342,
                        "test": [
                          0.1660775035,
                          0.9060362306
                        ]
                      },
                      {
                        "iteration": 912,
                        "passed_time": 32.4823704,
                        "remaining_time": 38.67287692,
                        "test": [
                          0.1675699893,
                          0.9065568228
                        ]
                      },
                      {
                        "iteration": 916,
                        "passed_time": 32.61786518,
                        "remaining_time": 38.52251689,
                        "test": [
                          0.1638205293,
                          0.9032459334
                        ]
                      },
                      {
                        "iteration": 920,
                        "passed_time": 32.73931402,
                        "remaining_time": 38.35583043,
                        "test": [
                          0.1642292651,
                          0.9034729273
                        ]
                      },
                      {
                        "iteration": 924,
                        "passed_time": 32.85646128,
                        "remaining_time": 38.18453608,
                        "test": [
                          0.1635542508,
                          0.9032311304
                        ]
                      },
                      {
                        "iteration": 928,
                        "passed_time": 32.97573466,
                        "remaining_time": 38.01615912,
                        "test": [
                          0.1653949751,
                          0.9054047895
                        ]
                      },
                      {
                        "iteration": 932,
                        "passed_time": 33.0979238,
                        "remaining_time": 37.85153773,
                        "test": [
                          0.1624155776,
                          0.9044100552
                        ]
                      },
                      {
                        "iteration": 936,
                        "passed_time": 33.24441921,
                        "remaining_time": 37.71485338,
                        "test": [
                          0.1618975518,
                          0.9037865757
                        ]
                      },
                      {
                        "iteration": 940,
                        "passed_time": 33.36299389,
                        "remaining_time": 37.54666369,
                        "test": [
                          0.1631650376,
                          0.901959144
                        ]
                      },
                      {
                        "iteration": 944,
                        "passed_time": 33.48243883,
                        "remaining_time": 37.37986557,
                        "test": [
                          0.1620812876,
                          0.9013394051
                        ]
                      },
                      {
                        "iteration": 948,
                        "passed_time": 33.61260311,
                        "remaining_time": 37.22533812,
                        "test": [
                          0.1624088764,
                          0.9015980231
                        ]
                      },
                      {
                        "iteration": 952,
                        "passed_time": 33.73012565,
                        "remaining_time": 37.0571265,
                        "test": [
                          0.1633300639,
                          0.9023008075
                        ]
                      },
                      {
                        "iteration": 956,
                        "passed_time": 33.85023504,
                        "remaining_time": 36.89215794,
                        "test": [
                          0.1620001406,
                          0.9018800201
                        ]
                      },
                      {
                        "iteration": 960,
                        "passed_time": 33.97321106,
                        "remaining_time": 36.73066212,
                        "test": [
                          0.163431316,
                          0.902641016
                        ]
                      },
                      {
                        "iteration": 964,
                        "passed_time": 34.096077,
                        "remaining_time": 36.56936756,
                        "test": [
                          0.1651150518,
                          0.9040304514
                        ]
                      },
                      {
                        "iteration": 968,
                        "passed_time": 34.23321142,
                        "remaining_time": 36.4235717,
                        "test": [
                          0.1639913182,
                          0.9039876234
                        ]
                      },
                      {
                        "iteration": 972,
                        "passed_time": 34.35325865,
                        "remaining_time": 36.25981154,
                        "test": [
                          0.1632818418,
                          0.9035614704
                        ]
                      },
                      {
                        "iteration": 976,
                        "passed_time": 34.47272337,
                        "remaining_time": 36.09579939,
                        "test": [
                          0.1642030293,
                          0.9039997079
                        ]
                      },
                      {
                        "iteration": 980,
                        "passed_time": 34.60664568,
                        "remaining_time": 35.94716814,
                        "test": [
                          0.1638556039,
                          0.9040863919
                        ]
                      },
                      {
                        "iteration": 984,
                        "passed_time": 34.7239983,
                        "remaining_time": 35.78158201,
                        "test": [
                          0.1651306039,
                          0.904889184
                        ]
                      },
                      {
                        "iteration": 988,
                        "passed_time": 34.84414429,
                        "remaining_time": 35.61924153,
                        "test": [
                          0.1607852922,
                          0.9008451009
                        ]
                      },
                      {
                        "iteration": 992,
                        "passed_time": 34.9610045,
                        "remaining_time": 35.45390889,
                        "test": [
                          0.1622228547,
                          0.9017232173
                        ]
                      },
                      {
                        "iteration": 996,
                        "passed_time": 35.08575115,
                        "remaining_time": 35.2968991,
                        "test": [
                          0.1624141047,
                          0.9018711237
                        ]
                      },
                      {
                        "iteration": 1000,
                        "passed_time": 35.22564628,
                        "remaining_time": 35.15526537,
                        "test": [
                          0.1623619909,
                          0.902052802
                        ]
                      },
                      {
                        "iteration": 1004,
                        "passed_time": 35.34499334,
                        "remaining_time": 34.99330187,
                        "test": [
                          0.1636913906,
                          0.9053437326
                        ]
                      },
                      {
                        "iteration": 1008,
                        "passed_time": 35.46676651,
                        "remaining_time": 34.83405908,
                        "test": [
                          0.1616256664,
                          0.9014947682
                        ]
                      },
                      {
                        "iteration": 1012,
                        "passed_time": 35.59924796,
                        "remaining_time": 34.68554564,
                        "test": [
                          0.1618506664,
                          0.9043897349
                        ]
                      },
                      {
                        "iteration": 1016,
                        "passed_time": 35.72187791,
                        "remaining_time": 34.52763618,
                        "test": [
                          0.1607594021,
                          0.9005967996
                        ]
                      },
                      {
                        "iteration": 1020,
                        "passed_time": 35.83874212,
                        "remaining_time": 34.36447457,
                        "test": [
                          0.1594230918,
                          0.8999077306
                        ]
                      },
                      {
                        "iteration": 1024,
                        "passed_time": 35.95723261,
                        "remaining_time": 34.20322126,
                        "test": [
                          0.1614968539,
                          0.9040251803
                        ]
                      },
                      {
                        "iteration": 1028,
                        "passed_time": 36.07792532,
                        "remaining_time": 34.04437851,
                        "test": [
                          0.1626384136,
                          0.9052501034
                        ]
                      },
                      {
                        "iteration": 1032,
                        "passed_time": 36.21837369,
                        "remaining_time": 33.90432464,
                        "test": [
                          0.1638818276,
                          0.9055757576
                        ]
                      },
                      {
                        "iteration": 1036,
                        "passed_time": 36.33711478,
                        "remaining_time": 33.74410948,
                        "test": [
                          0.1608509619,
                          0.9033994576
                        ]
                      },
                      {
                        "iteration": 1040,
                        "passed_time": 36.4564563,
                        "remaining_time": 33.58476617,
                        "test": [
                          0.1608509619,
                          0.9030014031
                        ]
                      },
                      {
                        "iteration": 1044,
                        "passed_time": 36.57642756,
                        "remaining_time": 33.42630462,
                        "test": [
                          0.1632097119,
                          0.9041735032
                        ]
                      },
                      {
                        "iteration": 1048,
                        "passed_time": 36.70879169,
                        "remaining_time": 33.27937169,
                        "test": [
                          0.1648934477,
                          0.9053646511
                        ]
                      },
                      {
                        "iteration": 1052,
                        "passed_time": 36.82910839,
                        "remaining_time": 33.12171476,
                        "test": [
                          0.1636259619,
                          0.9074692998
                        ]
                      },
                      {
                        "iteration": 1056,
                        "passed_time": 36.97585276,
                        "remaining_time": 32.98791784,
                        "test": [
                          0.1636259619,
                          0.9074692998
                        ]
                      },
                      {
                        "iteration": 1060,
                        "passed_time": 37.24169705,
                        "remaining_time": 32.95942839,
                        "test": [
                          0.1627047744,
                          0.9064829234
                        ]
                      },
                      {
                        "iteration": 1064,
                        "passed_time": 37.51268568,
                        "remaining_time": 32.9336724,
                        "test": [
                          0.1617835869,
                          0.9060781726
                        ]
                      },
                      {
                        "iteration": 1068,
                        "passed_time": 37.77754258,
                        "remaining_time": 32.90074101,
                        "test": [
                          0.1583148632,
                          0.9044312734
                        ]
                      },
                      {
                        "iteration": 1072,
                        "passed_time": 38.03950467,
                        "remaining_time": 32.86357952,
                        "test": [
                          0.159998599,
                          0.9052134668
                        ]
                      },
                      {
                        "iteration": 1076,
                        "passed_time": 38.29491709,
                        "remaining_time": 32.81913507,
                        "test": [
                          0.158723599,
                          0.9048196292
                        ]
                      },
                      {
                        "iteration": 1080,
                        "passed_time": 38.54700267,
                        "remaining_time": 32.77030106,
                        "test": [
                          0.159998599,
                          0.9056564031
                        ]
                      },
                      {
                        "iteration": 1084,
                        "passed_time": 38.80450236,
                        "remaining_time": 32.72453424,
                        "test": [
                          0.1592044646,
                          0.9051247103
                        ]
                      },
                      {
                        "iteration": 1088,
                        "passed_time": 39.08069076,
                        "remaining_time": 32.69284599,
                        "test": [
                          0.1609603303,
                          0.9058403116
                        ]
                      },
                      {
                        "iteration": 1092,
                        "passed_time": 39.25317649,
                        "remaining_time": 32.57331297,
                        "test": [
                          0.1592497463,
                          0.9043027333
                        ]
                      },
                      {
                        "iteration": 1096,
                        "passed_time": 39.37229033,
                        "remaining_time": 32.4094605,
                        "test": [
                          0.1591431543,
                          0.904345189
                        ]
                      },
                      {
                        "iteration": 1100,
                        "passed_time": 39.48979279,
                        "remaining_time": 32.24461737,
                        "test": [
                          0.1615019043,
                          0.9053158603
                        ]
                      },
                      {
                        "iteration": 1104,
                        "passed_time": 39.61284304,
                        "remaining_time": 32.08461043,
                        "test": [
                          0.1591431543,
                          0.904345189
                        ]
                      },
                      {
                        "iteration": 1108,
                        "passed_time": 39.73446661,
                        "remaining_time": 31.92372385,
                        "test": [
                          0.1586622886,
                          0.9042888381
                        ]
                      },
                      {
                        "iteration": 1112,
                        "passed_time": 39.8613003,
                        "remaining_time": 31.76727167,
                        "test": [
                          0.1595518901,
                          0.9045043545
                        ]
                      },
                      {
                        "iteration": 1116,
                        "passed_time": 39.97795546,
                        "remaining_time": 31.60298538,
                        "test": [
                          0.1591431543,
                          0.9042444525
                        ]
                      },
                      {
                        "iteration": 1120,
                        "passed_time": 40.09726565,
                        "remaining_time": 31.44112088,
                        "test": [
                          0.1608006664,
                          0.9051583048
                        ]
                      },
                      {
                        "iteration": 1124,
                        "passed_time": 40.21401095,
                        "remaining_time": 31.27756407,
                        "test": [
                          0.1596447865,
                          0.905281981
                        ]
                      },
                      {
                        "iteration": 1128,
                        "passed_time": 40.35426678,
                        "remaining_time": 31.13247685,
                        "test": [
                          0.158723599,
                          0.9050549052
                        ]
                      },
                      {
                        "iteration": 1132,
                        "passed_time": 40.47107146,
                        "remaining_time": 30.96947833,
                        "test": [
                          0.159807349,
                          0.9051879969
                        ]
                      },
                      {
                        "iteration": 1136,
                        "passed_time": 40.59214883,
                        "remaining_time": 30.81004788,
                        "test": [
                          0.1606969504,
                          0.9053639995
                        ]
                      },
                      {
                        "iteration": 1140,
                        "passed_time": 40.71070276,
                        "remaining_time": 30.64898657,
                        "test": [
                          0.1578573348,
                          0.903542918
                        ]
                      },
                      {
                        "iteration": 1144,
                        "passed_time": 40.85015859,
                        "remaining_time": 30.50383021,
                        "test": [
                          0.1602160848,
                          0.9050389445
                        ]
                      },
                      {
                        "iteration": 1148,
                        "passed_time": 40.9657332,
                        "remaining_time": 30.34102607,
                        "test": [
                          0.1589410848,
                          0.9045220471
                        ]
                      },
                      {
                        "iteration": 1152,
                        "passed_time": 41.08722162,
                        "remaining_time": 30.18289394,
                        "test": [
                          0.1620297723,
                          0.9055222323
                        ]
                      },
                      {
                        "iteration": 1156,
                        "passed_time": 41.21352244,
                        "remaining_time": 30.02852154,
                        "test": [
                          0.1605057004,
                          0.904715291
                        ]
                      },
                      {
                        "iteration": 1160,
                        "passed_time": 41.3538426,
                        "remaining_time": 29.88447368,
                        "test": [
                          0.1574410848,
                          0.9005437073
                        ]
                      },
                      {
                        "iteration": 1164,
                        "passed_time": 41.47069136,
                        "remaining_time": 29.72362857,
                        "test": [
                          0.1574410848,
                          0.9005437073
                        ]
                      },
                      {
                        "iteration": 1168,
                        "passed_time": 41.58976097,
                        "remaining_time": 29.56466327,
                        "test": [
                          0.1581580754,
                          0.9036592494
                        ]
                      },
                      {
                        "iteration": 1172,
                        "passed_time": 41.70962968,
                        "remaining_time": 29.40653346,
                        "test": [
                          0.1576323348,
                          0.9010211792
                        ]
                      },
                      {
                        "iteration": 1176,
                        "passed_time": 41.84564977,
                        "remaining_time": 29.25995732,
                        "test": [
                          0.1587160848,
                          0.9013464994
                        ]
                      },
                      {
                        "iteration": 1180,
                        "passed_time": 41.96368337,
                        "remaining_time": 29.1009794,
                        "test": [
                          0.1594330754,
                          0.9045904953
                        ]
                      },
                      {
                        "iteration": 1184,
                        "passed_time": 42.08486107,
                        "remaining_time": 28.94444032,
                        "test": [
                          0.1559410848,
                          0.8964440503
                        ]
                      },
                      {
                        "iteration": 1188,
                        "passed_time": 42.20053373,
                        "remaining_time": 28.78438424,
                        "test": [
                          0.1559410848,
                          0.8964440503
                        ]
                      },
                      {
                        "iteration": 1192,
                        "passed_time": 42.34177965,
                        "remaining_time": 28.64192471,
                        "test": [
                          0.1551580754,
                          0.8964062982
                        ]
                      },
                      {
                        "iteration": 1196,
                        "passed_time": 42.45972177,
                        "remaining_time": 28.48384008,
                        "test": [
                          0.1583622723,
                          0.9007132407
                        ]
                      },
                      {
                        "iteration": 1200,
                        "passed_time": 42.58307665,
                        "remaining_time": 28.32962385,
                        "test": [
                          0.1611372723,
                          0.9050480332
                        ]
                      },
                      {
                        "iteration": 1204,
                        "passed_time": 42.70401704,
                        "remaining_time": 28.17401954,
                        "test": [
                          0.1598622723,
                          0.9043451006
                        ]
                      },
                      {
                        "iteration": 1208,
                        "passed_time": 42.83810222,
                        "remaining_time": 28.02724471,
                        "test": [
                          0.1598622723,
                          0.9043383869
                        ]
                      },
                      {
                        "iteration": 1212,
                        "passed_time": 42.95587245,
                        "remaining_time": 27.86996836,
                        "test": [
                          0.1602160848,
                          0.9050691965
                        ]
                      },
                      {
                        "iteration": 1216,
                        "passed_time": 43.08924786,
                        "remaining_time": 27.72299184,
                        "test": [
                          0.1624122723,
                          0.9062281281
                        ]
                      },
                      {
                        "iteration": 1220,
                        "passed_time": 43.20725211,
                        "remaining_time": 27.56629762,
                        "test": [
                          0.1599910848,
                          0.9020991881
                        ]
                      },
                      {
                        "iteration": 1224,
                        "passed_time": 43.35063696,
                        "remaining_time": 27.42591318,
                        "test": [
                          0.1572160848,
                          0.8980627643
                        ]
                      },
                      {
                        "iteration": 1228,
                        "passed_time": 43.46592423,
                        "remaining_time": 27.26788249,
                        "test": [
                          0.1587160848,
                          0.9017534668
                        ]
                      },
                      {
                        "iteration": 1232,
                        "passed_time": 43.58380868,
                        "remaining_time": 27.11174473,
                        "test": [
                          0.1576323348,
                          0.901328412
                        ]
                      },
                      {
                        "iteration": 1236,
                        "passed_time": 43.70157589,
                        "remaining_time": 26.95578206,
                        "test": [
                          0.1574410848,
                          0.9005326763
                        ]
                      },
                      {
                        "iteration": 1240,
                        "passed_time": 43.83658634,
                        "remaining_time": 26.81061163,
                        "test": [
                          0.1574410848,
                          0.9003524793
                        ]
                      },
                      {
                        "iteration": 1244,
                        "passed_time": 43.95370923,
                        "remaining_time": 26.65465901,
                        "test": [
                          0.1574410848,
                          0.9003524793
                        ]
                      },
                      {
                        "iteration": 1248,
                        "passed_time": 44.07558606,
                        "remaining_time": 26.50181355,
                        "test": [
                          0.1574410848,
                          0.9003524793
                        ]
                      },
                      {
                        "iteration": 1252,
                        "passed_time": 44.19489474,
                        "remaining_time": 26.34763477,
                        "test": [
                          0.1579219504,
                          0.900408321
                        ]
                      },
                      {
                        "iteration": 1256,
                        "passed_time": 44.33701329,
                        "remaining_time": 26.2071606,
                        "test": [
                          0.1552735848,
                          0.8994138627
                        ]
                      },
                      {
                        "iteration": 1260,
                        "passed_time": 44.45644813,
                        "remaining_time": 26.05338237,
                        "test": [
                          0.1552735848,
                          0.8994138627
                        ]
                      },
                      {
                        "iteration": 1264,
                        "passed_time": 44.59390698,
                        "remaining_time": 25.91029378,
                        "test": [
                          0.1552735848,
                          0.8994138627
                        ]
                      },
                      {
                        "iteration": 1268,
                        "passed_time": 44.71739002,
                        "remaining_time": 25.75919,
                        "test": [
                          0.1555743254,
                          0.8998011653
                        ]
                      },
                      {
                        "iteration": 1272,
                        "passed_time": 44.84838634,
                        "remaining_time": 25.61255056,
                        "test": [
                          0.1549714411,
                          0.8995544412
                        ]
                      },
                      {
                        "iteration": 1276,
                        "passed_time": 44.96789896,
                        "remaining_time": 25.4595074,
                        "test": [
                          0.1563201747,
                          0.9002274847
                        ]
                      },
                      {
                        "iteration": 1280,
                        "passed_time": 45.09130039,
                        "remaining_time": 25.30885635,
                        "test": [
                          0.1570294504,
                          0.9009822922
                        ]
                      },
                      {
                        "iteration": 1284,
                        "passed_time": 45.21117473,
                        "remaining_time": 25.1564124,
                        "test": [
                          0.1557544504,
                          0.8997703427
                        ]
                      },
                      {
                        "iteration": 1288,
                        "passed_time": 45.36918862,
                        "remaining_time": 25.025208,
                        "test": [
                          0.1553989872,
                          0.8994584386
                        ]
                      },
                      {
                        "iteration": 1292,
                        "passed_time": 45.49648955,
                        "remaining_time": 24.87704417,
                        "test": [
                          0.1549714411,
                          0.8993029322
                        ]
                      },
                      {
                        "iteration": 1296,
                        "passed_time": 45.63238855,
                        "remaining_time": 24.73366935,
                        "test": [
                          0.1549714411,
                          0.8992857416
                        ]
                      },
                      {
                        "iteration": 1300,
                        "passed_time": 45.76009069,
                        "remaining_time": 24.5859365,
                        "test": [
                          0.1549714411,
                          0.8992857416
                        ]
                      },
                      {
                        "iteration": 1304,
                        "passed_time": 45.90382534,
                        "remaining_time": 24.44686483,
                        "test": [
                          0.1562464411,
                          0.900521675
                        ]
                      },
                      {
                        "iteration": 1308,
                        "passed_time": 46.02746516,
                        "remaining_time": 24.29715693,
                        "test": [
                          0.1573301911,
                          0.9009467298
                        ]
                      },
                      {
                        "iteration": 1312,
                        "passed_time": 46.15685013,
                        "remaining_time": 24.15061389,
                        "test": [
                          0.1573301911,
                          0.9009467298
                        ]
                      },
                      {
                        "iteration": 1316,
                        "passed_time": 46.28089785,
                        "remaining_time": 24.00140716,
                        "test": [
                          0.1560551911,
                          0.8996374322
                        ]
                      },
                      {
                        "iteration": 1320,
                        "passed_time": 46.42210041,
                        "remaining_time": 23.86117046,
                        "test": [
                          0.1549714411,
                          0.8992123775
                        ]
                      },
                      {
                        "iteration": 1324,
                        "passed_time": 46.5407139,
                        "remaining_time": 23.70942029,
                        "test": [
                          0.1560551911,
                          0.8996670567
                        ]
                      },
                      {
                        "iteration": 1328,
                        "passed_time": 46.66031122,
                        "remaining_time": 23.55836631,
                        "test": [
                          0.1549714411,
                          0.899242002
                        ]
                      },
                      {
                        "iteration": 1332,
                        "passed_time": 46.77939616,
                        "remaining_time": 23.40724474,
                        "test": [
                          0.1549714411,
                          0.8989732979
                        ]
                      },
                      {
                        "iteration": 1336,
                        "passed_time": 46.92161731,
                        "remaining_time": 23.26778779,
                        "test": [
                          0.1562464411,
                          0.9002825954
                        ]
                      },
                      {
                        "iteration": 1340,
                        "passed_time": 47.04033271,
                        "remaining_time": 23.11676305,
                        "test": [
                          0.1568121653,
                          0.90046128
                        ]
                      },
                      {
                        "iteration": 1344,
                        "passed_time": 47.1638023,
                        "remaining_time": 22.96824573,
                        "test": [
                          0.1554523067,
                          0.8996476176
                        ]
                      },
                      {
                        "iteration": 1348,
                        "passed_time": 47.28552453,
                        "remaining_time": 22.81903371,
                        "test": [
                          0.1567273067,
                          0.9009908969
                        ]
                      },
                      {
                        "iteration": 1352,
                        "passed_time": 47.42879398,
                        "remaining_time": 22.68028803,
                        "test": [
                          0.1555808831,
                          0.9005542034
                        ]
                      },
                      {
                        "iteration": 1356,
                        "passed_time": 47.54681194,
                        "remaining_time": 22.52955054,
                        "test": [
                          0.1562464411,
                          0.9008125664
                        ]
                      },
                      {
                        "iteration": 1360,
                        "passed_time": 47.68153931,
                        "remaining_time": 22.38685057,
                        "test": [
                          0.1547867487,
                          0.8993892546
                        ]
                      },
                      {
                        "iteration": 1364,
                        "passed_time": 47.8069751,
                        "remaining_time": 22.23987486,
                        "test": [
                          0.1578110567,
                          0.9013523455
                        ]
                      },
                      {
                        "iteration": 1368,
                        "passed_time": 47.93683065,
                        "remaining_time": 22.09506219,
                        "test": [
                          0.1565360567,
                          0.8997148948
                        ]
                      },
                      {
                        "iteration": 1372,
                        "passed_time": 48.05505293,
                        "remaining_time": 21.94502417,
                        "test": [
                          0.1578110567,
                          0.9013523455
                        ]
                      },
                      {
                        "iteration": 1376,
                        "passed_time": 48.16855721,
                        "remaining_time": 21.79303641,
                        "test": [
                          0.1590860567,
                          0.9022436446
                        ]
                      },
                      {
                        "iteration": 1380,
                        "passed_time": 48.29087033,
                        "remaining_time": 21.64521994,
                        "test": [
                          0.1590860567,
                          0.9021723282
                        ]
                      },
                      {
                        "iteration": 1384,
                        "passed_time": 48.60436252,
                        "remaining_time": 21.58244256,
                        "test": [
                          0.1590860567,
                          0.9021723282
                        ]
                      },
                      {
                        "iteration": 1388,
                        "passed_time": 48.73325594,
                        "remaining_time": 21.43701899,
                        "test": [
                          0.1598690661,
                          0.9024787844
                        ]
                      },
                      {
                        "iteration": 1392,
                        "passed_time": 48.8631854,
                        "remaining_time": 21.29214181,
                        "test": [
                          0.1598690661,
                          0.9026483178
                        ]
                      },
                      {
                        "iteration": 1396,
                        "passed_time": 49.00123135,
                        "remaining_time": 21.15085362,
                        "test": [
                          0.1603499317,
                          0.9020407222
                        ]
                      },
                      {
                        "iteration": 1400,
                        "passed_time": 49.14442874,
                        "remaining_time": 21.01178645,
                        "test": [
                          0.1603499317,
                          0.9021809726
                        ]
                      },
                      {
                        "iteration": 1404,
                        "passed_time": 49.39277503,
                        "remaining_time": 20.91722501,
                        "test": [
                          0.1612711192,
                          0.9024668673
                        ]
                      },
                      {
                        "iteration": 1408,
                        "passed_time": 49.71327308,
                        "remaining_time": 20.85205422,
                        "test": [
                          0.1599944685,
                          0.9018658145
                        ]
                      },
                      {
                        "iteration": 1412,
                        "passed_time": 49.9823838,
                        "remaining_time": 20.76409008,
                        "test": [
                          0.1592114591,
                          0.9015625339
                        ]
                      },
                      {
                        "iteration": 1416,
                        "passed_time": 50.26592642,
                        "remaining_time": 20.681041,
                        "test": [
                          0.1573707348,
                          0.9007100686
                        ]
                      },
                      {
                        "iteration": 1420,
                        "passed_time": 50.55708599,
                        "remaining_time": 20.59996677,
                        "test": [
                          0.1573707348,
                          0.9004413645
                        ]
                      },
                      {
                        "iteration": 1424,
                        "passed_time": 50.81965115,
                        "remaining_time": 20.50617503,
                        "test": [
                          0.1586457348,
                          0.9015450065
                        ]
                      },
                      {
                        "iteration": 1428,
                        "passed_time": 51.09387895,
                        "remaining_time": 20.41609858,
                        "test": [
                          0.1579801768,
                          0.901316268
                        ]
                      },
                      {
                        "iteration": 1432,
                        "passed_time": 51.38000961,
                        "remaining_time": 20.32970373,
                        "test": [
                          0.1581648692,
                          0.9018458668
                        ]
                      },
                      {
                        "iteration": 1436,
                        "passed_time": 51.66316419,
                        "remaining_time": 20.24103092,
                        "test": [
                          0.1568898692,
                          0.9004480622
                        ]
                      },
                      {
                        "iteration": 1440,
                        "passed_time": 51.78963276,
                        "remaining_time": 20.09049598,
                        "test": [
                          0.1586457348,
                          0.9018137106
                        ]
                      },
                      {
                        "iteration": 1444,
                        "passed_time": 51.91314724,
                        "remaining_time": 19.93895967,
                        "test": [
                          0.1581648692,
                          0.9014250494
                        ]
                      },
                      {
                        "iteration": 1448,
                        "passed_time": 52.06096672,
                        "remaining_time": 19.79682034,
                        "test": [
                          0.1581648692,
                          0.901524294
                        ]
                      },
                      {
                        "iteration": 1452,
                        "passed_time": 52.18605788,
                        "remaining_time": 19.64609337,
                        "test": [
                          0.1581648692,
                          0.901435787
                        ]
                      },
                      {
                        "iteration": 1456,
                        "passed_time": 52.31477247,
                        "remaining_time": 19.49685755,
                        "test": [
                          0.1581648692,
                          0.9014590459
                        ]
                      },
                      {
                        "iteration": 1460,
                        "passed_time": 52.44090113,
                        "remaining_time": 19.34678009,
                        "test": [
                          0.1594398692,
                          0.902261838
                        ]
                      },
                      {
                        "iteration": 1464,
                        "passed_time": 52.56832405,
                        "remaining_time": 19.19730605,
                        "test": [
                          0.1594398692,
                          0.9024577954
                        ]
                      },
                      {
                        "iteration": 1468,
                        "passed_time": 52.71818083,
                        "remaining_time": 19.05606128,
                        "test": [
                          0.1586457348,
                          0.901778136
                        ]
                      },
                      {
                        "iteration": 1472,
                        "passed_time": 52.84726404,
                        "remaining_time": 18.90733751,
                        "test": [
                          0.1586457348,
                          0.9016378856
                        ]
                      },
                      {
                        "iteration": 1476,
                        "passed_time": 52.97559886,
                        "remaining_time": 18.75845511,
                        "test": [
                          0.1586568598,
                          0.9021273694
                        ]
                      },
                      {
                        "iteration": 1480,
                        "passed_time": 53.11926812,
                        "remaining_time": 18.6150575,
                        "test": [
                          0.1554413018,
                          0.8998750294
                        ]
                      },
                      {
                        "iteration": 1484,
                        "passed_time": 53.24315953,
                        "remaining_time": 18.46479943,
                        "test": [
                          0.1554413018,
                          0.9001514392
                        ]
                      },
                      {
                        "iteration": 1488,
                        "passed_time": 53.37406984,
                        "remaining_time": 18.3170918,
                        "test": [
                          0.1541663018,
                          0.8989508738
                        ]
                      },
                      {
                        "iteration": 1492,
                        "passed_time": 53.49171076,
                        "remaining_time": 18.16496809,
                        "test": [
                          0.1554413018,
                          0.899842173
                        ]
                      },
                      {
                        "iteration": 1496,
                        "passed_time": 53.60983054,
                        "remaining_time": 18.01318955,
                        "test": [
                          0.1549493112,
                          0.8992151842
                        ]
                      },
                      {
                        "iteration": 1500,
                        "passed_time": 53.7587122,
                        "remaining_time": 17.87181705,
                        "test": [
                          0.1570059175,
                          0.9003612005
                        ]
                      },
                      {
                        "iteration": 1504,
                        "passed_time": 53.87437209,
                        "remaining_time": 17.71947786,
                        "test": [
                          0.1571971675,
                          0.9007471681
                        ]
                      },
                      {
                        "iteration": 1508,
                        "passed_time": 53.98992504,
                        "remaining_time": 17.56729834,
                        "test": [
                          0.1575716417,
                          0.9007073653
                        ]
                      },
                      {
                        "iteration": 1512,
                        "passed_time": 54.12397399,
                        "remaining_time": 17.42126592,
                        "test": [
                          0.1570059175,
                          0.9006036286
                        ]
                      },
                      {
                        "iteration": 1516,
                        "passed_time": 54.24066523,
                        "remaining_time": 17.26977014,
                        "test": [
                          0.1576714754,
                          0.9008841294
                        ]
                      },
                      {
                        "iteration": 1520,
                        "passed_time": 54.36289122,
                        "remaining_time": 17.12020046,
                        "test": [
                          0.1586457348,
                          0.9010413394
                        ]
                      },
                      {
                        "iteration": 1524,
                        "passed_time": 54.48151607,
                        "remaining_time": 16.96965255,
                        "test": [
                          0.1584284497,
                          0.9009231916
                        ]
                      },
                      {
                        "iteration": 1528,
                        "passed_time": 54.60133518,
                        "remaining_time": 16.81963955,
                        "test": [
                          0.1577563341,
                          0.900688172
                        ]
                      },
                      {
                        "iteration": 1532,
                        "passed_time": 54.73995909,
                        "remaining_time": 16.67551265,
                        "test": [
                          0.1587305935,
                          0.9009856324
                        ]
                      },
                      {
                        "iteration": 1536,
                        "passed_time": 54.8579187,
                        "remaining_time": 16.52518956,
                        "test": [
                          0.1585393435,
                          0.9010178871
                        ]
                      },
                      {
                        "iteration": 1540,
                        "passed_time": 54.97590144,
                        "remaining_time": 16.37504138,
                        "test": [
                          0.1590313341,
                          0.901514223
                        ]
                      },
                      {
                        "iteration": 1544,
                        "passed_time": 55.10237655,
                        "remaining_time": 16.22756073,
                        "test": [
                          0.1570907761,
                          0.9008993337
                        ]
                      },
                      {
                        "iteration": 1548,
                        "passed_time": 55.23293019,
                        "remaining_time": 16.08137606,
                        "test": [
                          0.1570907761,
                          0.9008760747
                        ]
                      },
                      {
                        "iteration": 1552,
                        "passed_time": 55.35301105,
                        "remaining_time": 15.93225753,
                        "test": [
                          0.1570907761,
                          0.9008760747
                        ]
                      },
                      {
                        "iteration": 1556,
                        "passed_time": 55.47381869,
                        "remaining_time": 15.78349498,
                        "test": [
                          0.1577563341,
                          0.9008062432
                        ]
                      },
                      {
                        "iteration": 1560,
                        "passed_time": 55.59806571,
                        "remaining_time": 15.63584295,
                        "test": [
                          0.1564813341,
                          0.9000159324
                        ]
                      },
                      {
                        "iteration": 1564,
                        "passed_time": 55.74646506,
                        "remaining_time": 15.49502384,
                        "test": [
                          0.1587305935,
                          0.901116185
                        ]
                      },
                      {
                        "iteration": 1568,
                        "passed_time": 55.87327295,
                        "remaining_time": 15.34823495,
                        "test": [
                          0.1560070261,
                          0.8998613499
                        ]
                      },
                      {
                        "iteration": 1572,
                        "passed_time": 55.99231657,
                        "remaining_time": 15.19944004,
                        "test": [
                          0.1598143435,
                          0.9017851961
                        ]
                      },
                      {
                        "iteration": 1576,
                        "passed_time": 56.11441485,
                        "remaining_time": 15.0516154,
                        "test": [
                          0.159460531,
                          0.9014206415
                        ]
                      },
                      {
                        "iteration": 1580,
                        "passed_time": 56.25007289,
                        "remaining_time": 14.90751457,
                        "test": [
                          0.160735531,
                          0.9022563247
                        ]
                      },
                      {
                        "iteration": 1584,
                        "passed_time": 56.37098728,
                        "remaining_time": 14.75959604,
                        "test": [
                          0.160735531,
                          0.9024688788
                        ]
                      },
                      {
                        "iteration": 1588,
                        "passed_time": 56.4897609,
                        "remaining_time": 14.61125974,
                        "test": [
                          0.1620365661,
                          0.9033364111
                        ]
                      },
                      {
                        "iteration": 1592,
                        "passed_time": 56.60694817,
                        "remaining_time": 14.46266661,
                        "test": [
                          0.1609528161,
                          0.9026431767
                        ]
                      },
                      {
                        "iteration": 1596,
                        "passed_time": 56.75801977,
                        "remaining_time": 14.32278145,
                        "test": [
                          0.1620365661,
                          0.9030082579
                        ]
                      },
                      {
                        "iteration": 1600,
                        "passed_time": 56.87438695,
                        "remaining_time": 14.17419138,
                        "test": [
                          0.1620365661,
                          0.9030082579
                        ]
                      },
                      {
                        "iteration": 1604,
                        "passed_time": 56.9963115,
                        "remaining_time": 14.02712962,
                        "test": [
                          0.1620365661,
                          0.9030082579
                        ]
                      },
                      {
                        "iteration": 1608,
                        "passed_time": 57.1179349,
                        "remaining_time": 13.88011967,
                        "test": [
                          0.1620365661,
                          0.9030082579
                        ]
                      },
                      {
                        "iteration": 1612,
                        "passed_time": 57.25076945,
                        "remaining_time": 13.73592547,
                        "test": [
                          0.1615185403,
                          0.9020599243
                        ]
                      },
                      {
                        "iteration": 1616,
                        "passed_time": 57.36977842,
                        "remaining_time": 13.58851276,
                        "test": [
                          0.1626022903,
                          0.9028093087
                        ]
                      },
                      {
                        "iteration": 1620,
                        "passed_time": 57.48757716,
                        "remaining_time": 13.44095728,
                        "test": [
                          0.1615185403,
                          0.9021160743
                        ]
                      },
                      {
                        "iteration": 1624,
                        "passed_time": 57.60627271,
                        "remaining_time": 13.29375524,
                        "test": [
                          0.1615185403,
                          0.9023286284
                        ]
                      },
                      {
                        "iteration": 1628,
                        "passed_time": 57.75222503,
                        "remaining_time": 13.15290085,
                        "test": [
                          0.160735531,
                          0.9021968756
                        ]
                      },
                      {
                        "iteration": 1632,
                        "passed_time": 57.8718436,
                        "remaining_time": 13.00610325,
                        "test": [
                          0.160735531,
                          0.9019281715
                        ]
                      },
                      {
                        "iteration": 1636,
                        "passed_time": 57.98793132,
                        "remaining_time": 12.85865551,
                        "test": [
                          0.159651781,
                          0.9012349371
                        ]
                      },
                      {
                        "iteration": 1640,
                        "passed_time": 58.10975935,
                        "remaining_time": 12.71261646,
                        "test": [
                          0.160735531,
                          0.9019281715
                        ]
                      },
                      {
                        "iteration": 1644,
                        "passed_time": 58.23923396,
                        "remaining_time": 12.56834532,
                        "test": [
                          0.1602435403,
                          0.9012571322
                        ]
                      },
                      {
                        "iteration": 1648,
                        "passed_time": 58.36150619,
                        "remaining_time": 12.4226129,
                        "test": [
                          0.1595042487,
                          0.9017181663
                        ]
                      },
                      {
                        "iteration": 1652,
                        "passed_time": 58.4820031,
                        "remaining_time": 12.27662134,
                        "test": [
                          0.1605508386,
                          0.90193227
                        ]
                      },
                      {
                        "iteration": 1656,
                        "passed_time": 58.59991297,
                        "remaining_time": 12.13021735,
                        "test": [
                          0.1581920886,
                          0.9006877569
                        ]
                      },
                      {
                        "iteration": 1660,
                        "passed_time": 58.74939583,
                        "remaining_time": 11.99039445,
                        "test": [
                          0.1580008386,
                          0.9000327344
                        ]
                      },
                      {
                        "iteration": 1664,
                        "passed_time": 58.8685149,
                        "remaining_time": 11.84441591,
                        "test": [
                          0.1588576466,
                          0.9007942425
                        ]
                      },
                      {
                        "iteration": 1668,
                        "passed_time": 58.98383338,
                        "remaining_time": 11.69781237,
                        "test": [
                          0.1616907046,
                          0.9023209617
                        ]
                      },
                      {
                        "iteration": 1672,
                        "passed_time": 59.10497797,
                        "remaining_time": 11.55249719,
                        "test": [
                          0.1616907046,
                          0.9023209617
                        ]
                      },
                      {
                        "iteration": 1676,
                        "passed_time": 59.23935613,
                        "remaining_time": 11.40984617,
                        "test": [
                          0.1610251466,
                          0.9023201738
                        ]
                      },
                      {
                        "iteration": 1680,
                        "passed_time": 59.35927148,
                        "remaining_time": 11.26448995,
                        "test": [
                          0.1599413966,
                          0.9016269394
                        ]
                      },
                      {
                        "iteration": 1684,
                        "passed_time": 59.47620003,
                        "remaining_time": 11.11869615,
                        "test": [
                          0.160544281,
                          0.9021926094
                        ]
                      },
                      {
                        "iteration": 1688,
                        "passed_time": 59.59813727,
                        "remaining_time": 10.97396133,
                        "test": [
                          0.160544281,
                          0.9022498501
                        ]
                      },
                      {
                        "iteration": 1692,
                        "passed_time": 59.74723626,
                        "remaining_time": 10.83425962,
                        "test": [
                          0.160544281,
                          0.9022498501
                        ]
                      },
                      {
                        "iteration": 1696,
                        "passed_time": 59.86360225,
                        "remaining_time": 10.68866911,
                        "test": [
                          0.159878723,
                          0.9021605552
                        ]
                      },
                      {
                        "iteration": 1700,
                        "passed_time": 59.98135317,
                        "remaining_time": 10.54345949,
                        "test": [
                          0.159878723,
                          0.9020380663
                        ]
                      },
                      {
                        "iteration": 1704,
                        "passed_time": 60.10650692,
                        "remaining_time": 10.39965956,
                        "test": [
                          0.1610251466,
                          0.9022824329
                        ]
                      },
                      {
                        "iteration": 1708,
                        "passed_time": 60.22564083,
                        "remaining_time": 10.25492187,
                        "test": [
                          0.159878723,
                          0.9020336943
                        ]
                      },
                      {
                        "iteration": 1712,
                        "passed_time": 60.3606231,
                        "remaining_time": 10.11295904,
                        "test": [
                          0.161153723,
                          0.903275252
                        ]
                      },
                      {
                        "iteration": 1716,
                        "passed_time": 60.47732705,
                        "remaining_time": 9.968016049,
                        "test": [
                          0.162428723,
                          0.9040780441
                        ]
                      },
                      {
                        "iteration": 1720,
                        "passed_time": 60.60827185,
                        "remaining_time": 9.825512984,
                        "test": [
                          0.161153723,
                          0.9028364864
                        ]
                      },
                      {
                        "iteration": 1724,
                        "passed_time": 60.76094688,
                        "remaining_time": 9.686527763,
                        "test": [
                          0.1616345886,
                          0.9030040941
                        ]
                      },
                      {
                        "iteration": 1728,
                        "passed_time": 60.88456988,
                        "remaining_time": 9.542925643,
                        "test": [
                          0.1616345886,
                          0.9034161001
                        ]
                      },
                      {
                        "iteration": 1732,
                        "passed_time": 61.01058784,
                        "remaining_time": 9.39978474,
                        "test": [
                          0.1616345886,
                          0.9034161001
                        ]
                      },
                      {
                        "iteration": 1736,
                        "passed_time": 61.14022998,
                        "remaining_time": 9.257271436,
                        "test": [
                          0.1623001466,
                          0.903177242
                        ]
                      },
                      {
                        "iteration": 1740,
                        "passed_time": 61.28658633,
                        "remaining_time": 9.117303767,
                        "test": [
                          0.1623001466,
                          0.903153983
                        ]
                      },
                      {
                        "iteration": 1744,
                        "passed_time": 61.41424433,
                        "remaining_time": 8.974574386,
                        "test": [
                          0.1623001466,
                          0.9031243586
                        ]
                      },
                      {
                        "iteration": 1748,
                        "passed_time": 61.54349528,
                        "remaining_time": 8.832142547,
                        "test": [
                          0.1616345886,
                          0.903175314
                        ]
                      },
                      {
                        "iteration": 1752,
                        "passed_time": 61.71235012,
                        "remaining_time": 8.695351101,
                        "test": [
                          0.1616345886,
                          0.9032638211
                        ]
                      },
                      {
                        "iteration": 1756,
                        "passed_time": 62.04530486,
                        "remaining_time": 8.581109324,
                        "test": [
                          0.1628658709,
                          0.903582756
                        ]
                      },
                      {
                        "iteration": 1760,
                        "passed_time": 62.36085472,
                        "remaining_time": 8.463511798,
                        "test": [
                          0.1628658709,
                          0.9037706588
                        ]
                      },
                      {
                        "iteration": 1764,
                        "passed_time": 62.63497514,
                        "remaining_time": 8.339500939,
                        "test": [
                          0.1628658709,
                          0.9037706588
                        ]
                      },
                      {
                        "iteration": 1768,
                        "passed_time": 62.93845064,
                        "remaining_time": 8.218644488,
                        "test": [
                          0.1615908709,
                          0.9027799639
                        ]
                      },
                      {
                        "iteration": 1772,
                        "passed_time": 63.19431805,
                        "remaining_time": 8.090868696,
                        "test": [
                          0.1615908709,
                          0.9027799639
                        ]
                      },
                      {
                        "iteration": 1776,
                        "passed_time": 63.44642349,
                        "remaining_time": 7.962044141,
                        "test": [
                          0.1628658709,
                          0.9037706588
                        ]
                      },
                      {
                        "iteration": 1780,
                        "passed_time": 63.73050219,
                        "remaining_time": 7.836597405,
                        "test": [
                          0.1615908709,
                          0.9026397135
                        ]
                      },
                      {
                        "iteration": 1784,
                        "passed_time": 63.98223696,
                        "remaining_time": 7.706543948,
                        "test": [
                          0.1606696834,
                          0.9025112598
                        ]
                      },
                      {
                        "iteration": 1788,
                        "passed_time": 64.11082295,
                        "remaining_time": 7.561421824,
                        "test": [
                          0.1606696834,
                          0.9025112598
                        ]
                      },
                      {
                        "iteration": 1792,
                        "passed_time": 64.23895655,
                        "remaining_time": 7.416321252,
                        "test": [
                          0.1619446834,
                          0.9033140519
                        ]
                      },
                      {
                        "iteration": 1796,
                        "passed_time": 64.36729199,
                        "remaining_time": 7.271319017,
                        "test": [
                          0.1606696834,
                          0.9026991626
                        ]
                      },
                      {
                        "iteration": 1800,
                        "passed_time": 64.51425841,
                        "remaining_time": 7.128449431,
                        "test": [
                          0.1606696834,
                          0.9024923729
                        ]
                      },
                      {
                        "iteration": 1804,
                        "passed_time": 64.63904307,
                        "remaining_time": 6.983165318,
                        "test": [
                          0.1619446834,
                          0.9031549146
                        ]
                      },
                      {
                        "iteration": 1808,
                        "passed_time": 64.76499745,
                        "remaining_time": 6.838095364,
                        "test": [
                          0.1619446834,
                          0.9032622568
                        ]
                      },
                      {
                        "iteration": 1812,
                        "passed_time": 64.92129317,
                        "remaining_time": 6.696239284,
                        "test": [
                          0.1601039591,
                          0.902192273
                        ]
                      },
                      {
                        "iteration": 1816,
                        "passed_time": 65.04762135,
                        "remaining_time": 6.551301435,
                        "test": [
                          0.1610251466,
                          0.9028181883
                        ]
                      },
                      {
                        "iteration": 1820,
                        "passed_time": 65.17193977,
                        "remaining_time": 6.406247786,
                        "test": [
                          0.1628658709,
                          0.9039399154
                        ]
                      },
                      {
                        "iteration": 1824,
                        "passed_time": 65.29931646,
                        "remaining_time": 6.26157829,
                        "test": [
                          0.1628658709,
                          0.9034424538
                        ]
                      },
                      {
                        "iteration": 1828,
                        "passed_time": 65.4320599,
                        "remaining_time": 6.117486191,
                        "test": [
                          0.1628658709,
                          0.9034424538
                        ]
                      },
                      {
                        "iteration": 1832,
                        "passed_time": 65.57047618,
                        "remaining_time": 5.97396046,
                        "test": [
                          0.1628658709,
                          0.9034424538
                        ]
                      },
                      {
                        "iteration": 1836,
                        "passed_time": 65.69898007,
                        "remaining_time": 5.829577437,
                        "test": [
                          0.1619446834,
                          0.9030664076
                        ]
                      },
                      {
                        "iteration": 1840,
                        "passed_time": 65.8177875,
                        "remaining_time": 5.684425971,
                        "test": [
                          0.1608980935,
                          0.9029141795
                        ]
                      },
                      {
                        "iteration": 1844,
                        "passed_time": 65.97190257,
                        "remaining_time": 5.542354959,
                        "test": [
                          0.1608980935,
                          0.9029141795
                        ]
                      },
                      {
                        "iteration": 1848,
                        "passed_time": 66.09353149,
                        "remaining_time": 5.397578829,
                        "test": [
                          0.1608980935,
                          0.9032090059
                        ]
                      },
                      {
                        "iteration": 1852,
                        "passed_time": 66.21699082,
                        "remaining_time": 5.253047842,
                        "test": [
                          0.1608980935,
                          0.9032090059
                        ]
                      },
                      {
                        "iteration": 1856,
                        "passed_time": 66.34371279,
                        "remaining_time": 5.108858874,
                        "test": [
                          0.1608980935,
                          0.9029403018
                        ]
                      },
                      {
                        "iteration": 1860,
                        "passed_time": 66.47942113,
                        "remaining_time": 4.965416194,
                        "test": [
                          0.1595382348,
                          0.9022838801
                        ]
                      },
                      {
                        "iteration": 1864,
                        "passed_time": 66.60041477,
                        "remaining_time": 4.820941552,
                        "test": [
                          0.1566986192,
                          0.9007315027
                        ]
                      },
                      {
                        "iteration": 1868,
                        "passed_time": 66.73938819,
                        "remaining_time": 4.677827637,
                        "test": [
                          0.1562694223,
                          0.9007896011
                        ]
                      },
                      {
                        "iteration": 1872,
                        "passed_time": 67.01920874,
                        "remaining_time": 4.544281639,
                        "test": [
                          0.1583274317,
                          0.9018988494
                        ]
                      },
                      {
                        "iteration": 1876,
                        "passed_time": 67.27888836,
                        "remaining_time": 4.408792365,
                        "test": [
                          0.1593740216,
                          0.9021338849
                        ]
                      },
                      {
                        "iteration": 1880,
                        "passed_time": 67.57401527,
                        "remaining_time": 4.275017447,
                        "test": [
                          0.1585910122,
                          0.9018274287
                        ]
                      },
                      {
                        "iteration": 1884,
                        "passed_time": 67.83168576,
                        "remaining_time": 4.138272606,
                        "test": [
                          0.1585910122,
                          0.9018274287
                        ]
                      },
                      {
                        "iteration": 1888,
                        "passed_time": 68.12282516,
                        "remaining_time": 4.002982315,
                        "test": [
                          0.1584911785,
                          0.901668445
                        ]
                      },
                      {
                        "iteration": 1892,
                        "passed_time": 68.35652552,
                        "remaining_time": 3.863786704,
                        "test": [
                          0.1608609334,
                          0.9026418773
                        ]
                      },
                      {
                        "iteration": 1896,
                        "passed_time": 68.57716833,
                        "remaining_time": 3.723483573,
                        "test": [
                          0.1608609334,
                          0.9026418773
                        ]
                      },
                      {
                        "iteration": 1900,
                        "passed_time": 68.82475248,
                        "remaining_time": 3.584245395,
                        "test": [
                          0.1602952091,
                          0.902546
                        ]
                      },
                      {
                        "iteration": 1904,
                        "passed_time": 69.14628873,
                        "remaining_time": 3.44824012,
                        "test": [
                          0.1598143435,
                          0.9025157715
                        ]
                      },
                      {
                        "iteration": 1908,
                        "passed_time": 69.31954133,
                        "remaining_time": 3.304388822,
                        "test": [
                          0.158893156,
                          0.902077534
                        ]
                      },
                      {
                        "iteration": 1912,
                        "passed_time": 69.45011349,
                        "remaining_time": 3.158473536,
                        "test": [
                          0.1573160122,
                          0.901054261
                        ]
                      },
                      {
                        "iteration": 1916,
                        "passed_time": 69.58423343,
                        "remaining_time": 3.012775886,
                        "test": [
                          0.1568351466,
                          0.9009682856
                        ]
                      },
                      {
                        "iteration": 1920,
                        "passed_time": 69.72609947,
                        "remaining_time": 2.867445007,
                        "test": [
                          0.1553754542,
                          0.9000227304
                        ]
                      },
                      {
                        "iteration": 1924,
                        "passed_time": 69.84242807,
                        "remaining_time": 2.721133561,
                        "test": [
                          0.1553754542,
                          0.9000227304
                        ]
                      },
                      {
                        "iteration": 1928,
                        "passed_time": 69.95819121,
                        "remaining_time": 2.574925648,
                        "test": [
                          0.1536195886,
                          0.8985732291
                        ]
                      },
                      {
                        "iteration": 1932,
                        "passed_time": 70.08009645,
                        "remaining_time": 2.429056628,
                        "test": [
                          0.1541115792,
                          0.8996946238
                        ]
                      },
                      {
                        "iteration": 1936,
                        "passed_time": 70.23259295,
                        "remaining_time": 2.284281547,
                        "test": [
                          0.1534460213,
                          0.899524749
                        ]
                      },
                      {
                        "iteration": 1940,
                        "passed_time": 70.35216861,
                        "remaining_time": 2.138473956,
                        "test": [
                          0.1552018869,
                          0.9003250094
                        ]
                      },
                      {
                        "iteration": 1944,
                        "passed_time": 70.47413578,
                        "remaining_time": 1.992841886,
                        "test": [
                          0.1510872713,
                          0.8974633344
                        ]
                      },
                      {
                        "iteration": 1948,
                        "passed_time": 70.59207864,
                        "remaining_time": 1.847201647,
                        "test": [
                          0.1547210213,
                          0.9002514679
                        ]
                      },
                      {
                        "iteration": 1952,
                        "passed_time": 70.7251828,
                        "remaining_time": 1.702039729,
                        "test": [
                          0.1512785213,
                          0.8976959519
                        ]
                      },
                      {
                        "iteration": 1956,
                        "passed_time": 70.84157039,
                        "remaining_time": 1.556559799,
                        "test": [
                          0.1504843869,
                          0.8969495107
                        ]
                      },
                      {
                        "iteration": 1960,
                        "passed_time": 70.9558712,
                        "remaining_time": 1.411157051,
                        "test": [
                          0.1515681369,
                          0.8978306479
                        ]
                      },
                      {
                        "iteration": 1964,
                        "passed_time": 71.07754951,
                        "remaining_time": 1.266012332,
                        "test": [
                          0.1522336949,
                          0.8979708983
                        ]
                      },
                      {
                        "iteration": 1968,
                        "passed_time": 71.22396676,
                        "remaining_time": 1.121352448,
                        "test": [
                          0.1517156691,
                          0.8974062824
                        ]
                      },
                      {
                        "iteration": 1972,
                        "passed_time": 71.34314947,
                        "remaining_time": 0.9763127398,
                        "test": [
                          0.1523812271,
                          0.8975204105
                        ]
                      },
                      {
                        "iteration": 1976,
                        "passed_time": 71.46040282,
                        "remaining_time": 0.8313552174,
                        "test": [
                          0.1540744191,
                          0.8987876985
                        ]
                      },
                      {
                        "iteration": 1980,
                        "passed_time": 71.57674098,
                        "remaining_time": 0.6865007969,
                        "test": [
                          0.1547399771,
                          0.8990425593
                        ]
                      },
                      {
                        "iteration": 1984,
                        "passed_time": 71.70871581,
                        "remaining_time": 0.5418794645,
                        "test": [
                          0.1554055351,
                          0.8991318543
                        ]
                      },
                      {
                        "iteration": 1988,
                        "passed_time": 71.82917525,
                        "remaining_time": 0.3972453131,
                        "test": [
                          0.1542917042,
                          0.8990158215
                        ]
                      },
                      {
                        "iteration": 1992,
                        "passed_time": 71.94834995,
                        "remaining_time": 0.2527036877,
                        "test": [
                          0.1542917042,
                          0.8989896992
                        ]
                      },
                      {
                        "iteration": 1996,
                        "passed_time": 72.0730711,
                        "remaining_time": 0.1082720147,
                        "test": [
                          0.1546391297,
                          0.899090918
                        ]
                      },
                      {
                        "iteration": 1999,
                        "passed_time": 72.18911298,
                        "remaining_time": 0,
                        "test": [
                          0.1552048539,
                          0.8990768201
                        ]
                      }
                    ],
                    "meta": {
                      "test_sets": [
                        "test"
                      ],
                      "test_metrics": [
                        {
                          "best_value": "Max",
                          "name": "PFound"
                        },
                        {
                          "best_value": "Max",
                          "name": "NDCG:type=Base"
                        }
                      ],
                      "learn_metrics": [],
                      "launch_mode": "Train",
                      "parameters": "",
                      "iteration_count": 2000,
                      "learn_sets": [
                        "learn"
                      ],
                      "name": "experiment"
                    }
                  }
                }
              }
            },
            "layout": "IPY_MODEL_da255a5adfc24f9ebac9fb707c524865"
          }
        }
      }
    }
  },
  "cells": [
    {
      "cell_type": "markdown",
      "metadata": {
        "id": "view-in-github",
        "colab_type": "text"
      },
      "source": [
        "<a href=\"https://colab.research.google.com/github/insuperabilez/vk-test/blob/main/vk_test.ipynb\" target=\"_parent\"><img src=\"https://colab.research.google.com/assets/colab-badge.svg\" alt=\"Open In Colab\"/></a>"
      ]
    },
    {
      "cell_type": "code",
      "execution_count": 1,
      "metadata": {
        "id": "pLLF1ocOxPwj",
        "colab": {
          "base_uri": "https://localhost:8080/"
        },
        "outputId": "35b2d091-12e6-4562-8d26-91fee37aef59"
      },
      "outputs": [
        {
          "output_type": "stream",
          "name": "stdout",
          "text": [
            "Requirement already satisfied: catboost in /usr/local/lib/python3.10/dist-packages (1.2.3)\n",
            "Requirement already satisfied: graphviz in /usr/local/lib/python3.10/dist-packages (from catboost) (0.20.1)\n",
            "Requirement already satisfied: matplotlib in /usr/local/lib/python3.10/dist-packages (from catboost) (3.7.1)\n",
            "Requirement already satisfied: numpy>=1.16.0 in /usr/local/lib/python3.10/dist-packages (from catboost) (1.25.2)\n",
            "Requirement already satisfied: pandas>=0.24 in /usr/local/lib/python3.10/dist-packages (from catboost) (1.5.3)\n",
            "Requirement already satisfied: scipy in /usr/local/lib/python3.10/dist-packages (from catboost) (1.11.4)\n",
            "Requirement already satisfied: plotly in /usr/local/lib/python3.10/dist-packages (from catboost) (5.15.0)\n",
            "Requirement already satisfied: six in /usr/local/lib/python3.10/dist-packages (from catboost) (1.16.0)\n",
            "Requirement already satisfied: python-dateutil>=2.8.1 in /usr/local/lib/python3.10/dist-packages (from pandas>=0.24->catboost) (2.8.2)\n",
            "Requirement already satisfied: pytz>=2020.1 in /usr/local/lib/python3.10/dist-packages (from pandas>=0.24->catboost) (2023.4)\n",
            "Requirement already satisfied: contourpy>=1.0.1 in /usr/local/lib/python3.10/dist-packages (from matplotlib->catboost) (1.2.0)\n",
            "Requirement already satisfied: cycler>=0.10 in /usr/local/lib/python3.10/dist-packages (from matplotlib->catboost) (0.12.1)\n",
            "Requirement already satisfied: fonttools>=4.22.0 in /usr/local/lib/python3.10/dist-packages (from matplotlib->catboost) (4.49.0)\n",
            "Requirement already satisfied: kiwisolver>=1.0.1 in /usr/local/lib/python3.10/dist-packages (from matplotlib->catboost) (1.4.5)\n",
            "Requirement already satisfied: packaging>=20.0 in /usr/local/lib/python3.10/dist-packages (from matplotlib->catboost) (23.2)\n",
            "Requirement already satisfied: pillow>=6.2.0 in /usr/local/lib/python3.10/dist-packages (from matplotlib->catboost) (9.4.0)\n",
            "Requirement already satisfied: pyparsing>=2.3.1 in /usr/local/lib/python3.10/dist-packages (from matplotlib->catboost) (3.1.1)\n",
            "Requirement already satisfied: tenacity>=6.2.0 in /usr/local/lib/python3.10/dist-packages (from plotly->catboost) (8.2.3)\n",
            "Requirement already satisfied: numpy in /usr/local/lib/python3.10/dist-packages (1.25.2)\n",
            "Requirement already satisfied: pandas in /usr/local/lib/python3.10/dist-packages (1.5.3)\n",
            "Requirement already satisfied: python-dateutil>=2.8.1 in /usr/local/lib/python3.10/dist-packages (from pandas) (2.8.2)\n",
            "Requirement already satisfied: pytz>=2020.1 in /usr/local/lib/python3.10/dist-packages (from pandas) (2023.4)\n",
            "Requirement already satisfied: numpy>=1.21.0 in /usr/local/lib/python3.10/dist-packages (from pandas) (1.25.2)\n",
            "Requirement already satisfied: six>=1.5 in /usr/local/lib/python3.10/dist-packages (from python-dateutil>=2.8.1->pandas) (1.16.0)\n",
            "Requirement already satisfied: scikit-learn in /usr/local/lib/python3.10/dist-packages (1.2.2)\n",
            "Requirement already satisfied: numpy>=1.17.3 in /usr/local/lib/python3.10/dist-packages (from scikit-learn) (1.25.2)\n",
            "Requirement already satisfied: scipy>=1.3.2 in /usr/local/lib/python3.10/dist-packages (from scikit-learn) (1.11.4)\n",
            "Requirement already satisfied: joblib>=1.1.1 in /usr/local/lib/python3.10/dist-packages (from scikit-learn) (1.3.2)\n",
            "Requirement already satisfied: threadpoolctl>=2.0.0 in /usr/local/lib/python3.10/dist-packages (from scikit-learn) (3.3.0)\n",
            "Requirement already satisfied: traitlets in /usr/local/lib/python3.10/dist-packages (5.7.1)\n",
            "Requirement already satisfied: ipython in /usr/local/lib/python3.10/dist-packages (7.34.0)\n",
            "Requirement already satisfied: setuptools>=18.5 in /usr/local/lib/python3.10/dist-packages (from ipython) (67.7.2)\n",
            "Requirement already satisfied: jedi>=0.16 in /usr/local/lib/python3.10/dist-packages (from ipython) (0.19.1)\n",
            "Requirement already satisfied: decorator in /usr/local/lib/python3.10/dist-packages (from ipython) (4.4.2)\n",
            "Requirement already satisfied: pickleshare in /usr/local/lib/python3.10/dist-packages (from ipython) (0.7.5)\n",
            "Requirement already satisfied: traitlets>=4.2 in /usr/local/lib/python3.10/dist-packages (from ipython) (5.7.1)\n",
            "Requirement already satisfied: prompt-toolkit!=3.0.0,!=3.0.1,<3.1.0,>=2.0.0 in /usr/local/lib/python3.10/dist-packages (from ipython) (3.0.43)\n",
            "Requirement already satisfied: pygments in /usr/local/lib/python3.10/dist-packages (from ipython) (2.16.1)\n",
            "Requirement already satisfied: backcall in /usr/local/lib/python3.10/dist-packages (from ipython) (0.2.0)\n",
            "Requirement already satisfied: matplotlib-inline in /usr/local/lib/python3.10/dist-packages (from ipython) (0.1.6)\n",
            "Requirement already satisfied: pexpect>4.3 in /usr/local/lib/python3.10/dist-packages (from ipython) (4.9.0)\n",
            "Requirement already satisfied: parso<0.9.0,>=0.8.3 in /usr/local/lib/python3.10/dist-packages (from jedi>=0.16->ipython) (0.8.3)\n",
            "Requirement already satisfied: ptyprocess>=0.5 in /usr/local/lib/python3.10/dist-packages (from pexpect>4.3->ipython) (0.7.0)\n",
            "Requirement already satisfied: wcwidth in /usr/local/lib/python3.10/dist-packages (from prompt-toolkit!=3.0.0,!=3.0.1,<3.1.0,>=2.0.0->ipython) (0.2.13)\n",
            "Requirement already satisfied: ipywidgets in /usr/local/lib/python3.10/dist-packages (7.7.1)\n",
            "Requirement already satisfied: ipykernel>=4.5.1 in /usr/local/lib/python3.10/dist-packages (from ipywidgets) (5.5.6)\n",
            "Requirement already satisfied: ipython-genutils~=0.2.0 in /usr/local/lib/python3.10/dist-packages (from ipywidgets) (0.2.0)\n",
            "Requirement already satisfied: traitlets>=4.3.1 in /usr/local/lib/python3.10/dist-packages (from ipywidgets) (5.7.1)\n",
            "Requirement already satisfied: widgetsnbextension~=3.6.0 in /usr/local/lib/python3.10/dist-packages (from ipywidgets) (3.6.6)\n",
            "Requirement already satisfied: ipython>=4.0.0 in /usr/local/lib/python3.10/dist-packages (from ipywidgets) (7.34.0)\n",
            "Requirement already satisfied: jupyterlab-widgets>=1.0.0 in /usr/local/lib/python3.10/dist-packages (from ipywidgets) (3.0.10)\n",
            "Requirement already satisfied: jupyter-client in /usr/local/lib/python3.10/dist-packages (from ipykernel>=4.5.1->ipywidgets) (6.1.12)\n",
            "Requirement already satisfied: tornado>=4.2 in /usr/local/lib/python3.10/dist-packages (from ipykernel>=4.5.1->ipywidgets) (6.3.3)\n",
            "Requirement already satisfied: setuptools>=18.5 in /usr/local/lib/python3.10/dist-packages (from ipython>=4.0.0->ipywidgets) (67.7.2)\n",
            "Requirement already satisfied: jedi>=0.16 in /usr/local/lib/python3.10/dist-packages (from ipython>=4.0.0->ipywidgets) (0.19.1)\n",
            "Requirement already satisfied: decorator in /usr/local/lib/python3.10/dist-packages (from ipython>=4.0.0->ipywidgets) (4.4.2)\n",
            "Requirement already satisfied: pickleshare in /usr/local/lib/python3.10/dist-packages (from ipython>=4.0.0->ipywidgets) (0.7.5)\n",
            "Requirement already satisfied: prompt-toolkit!=3.0.0,!=3.0.1,<3.1.0,>=2.0.0 in /usr/local/lib/python3.10/dist-packages (from ipython>=4.0.0->ipywidgets) (3.0.43)\n",
            "Requirement already satisfied: pygments in /usr/local/lib/python3.10/dist-packages (from ipython>=4.0.0->ipywidgets) (2.16.1)\n",
            "Requirement already satisfied: backcall in /usr/local/lib/python3.10/dist-packages (from ipython>=4.0.0->ipywidgets) (0.2.0)\n",
            "Requirement already satisfied: matplotlib-inline in /usr/local/lib/python3.10/dist-packages (from ipython>=4.0.0->ipywidgets) (0.1.6)\n",
            "Requirement already satisfied: pexpect>4.3 in /usr/local/lib/python3.10/dist-packages (from ipython>=4.0.0->ipywidgets) (4.9.0)\n",
            "Requirement already satisfied: notebook>=4.4.1 in /usr/local/lib/python3.10/dist-packages (from widgetsnbextension~=3.6.0->ipywidgets) (6.5.5)\n",
            "Requirement already satisfied: parso<0.9.0,>=0.8.3 in /usr/local/lib/python3.10/dist-packages (from jedi>=0.16->ipython>=4.0.0->ipywidgets) (0.8.3)\n",
            "Requirement already satisfied: jinja2 in /usr/local/lib/python3.10/dist-packages (from notebook>=4.4.1->widgetsnbextension~=3.6.0->ipywidgets) (3.1.3)\n",
            "Requirement already satisfied: pyzmq<25,>=17 in /usr/local/lib/python3.10/dist-packages (from notebook>=4.4.1->widgetsnbextension~=3.6.0->ipywidgets) (23.2.1)\n",
            "Requirement already satisfied: argon2-cffi in /usr/local/lib/python3.10/dist-packages (from notebook>=4.4.1->widgetsnbextension~=3.6.0->ipywidgets) (23.1.0)\n",
            "Requirement already satisfied: jupyter-core>=4.6.1 in /usr/local/lib/python3.10/dist-packages (from notebook>=4.4.1->widgetsnbextension~=3.6.0->ipywidgets) (5.7.1)\n",
            "Requirement already satisfied: nbformat in /usr/local/lib/python3.10/dist-packages (from notebook>=4.4.1->widgetsnbextension~=3.6.0->ipywidgets) (5.9.2)\n",
            "Requirement already satisfied: nbconvert>=5 in /usr/local/lib/python3.10/dist-packages (from notebook>=4.4.1->widgetsnbextension~=3.6.0->ipywidgets) (6.5.4)\n",
            "Requirement already satisfied: nest-asyncio>=1.5 in /usr/local/lib/python3.10/dist-packages (from notebook>=4.4.1->widgetsnbextension~=3.6.0->ipywidgets) (1.6.0)\n",
            "Requirement already satisfied: Send2Trash>=1.8.0 in /usr/local/lib/python3.10/dist-packages (from notebook>=4.4.1->widgetsnbextension~=3.6.0->ipywidgets) (1.8.2)\n",
            "Requirement already satisfied: terminado>=0.8.3 in /usr/local/lib/python3.10/dist-packages (from notebook>=4.4.1->widgetsnbextension~=3.6.0->ipywidgets) (0.18.0)\n",
            "Requirement already satisfied: prometheus-client in /usr/local/lib/python3.10/dist-packages (from notebook>=4.4.1->widgetsnbextension~=3.6.0->ipywidgets) (0.20.0)\n",
            "Requirement already satisfied: nbclassic>=0.4.7 in /usr/local/lib/python3.10/dist-packages (from notebook>=4.4.1->widgetsnbextension~=3.6.0->ipywidgets) (1.0.0)\n",
            "Requirement already satisfied: python-dateutil>=2.1 in /usr/local/lib/python3.10/dist-packages (from jupyter-client->ipykernel>=4.5.1->ipywidgets) (2.8.2)\n",
            "Requirement already satisfied: ptyprocess>=0.5 in /usr/local/lib/python3.10/dist-packages (from pexpect>4.3->ipython>=4.0.0->ipywidgets) (0.7.0)\n",
            "Requirement already satisfied: wcwidth in /usr/local/lib/python3.10/dist-packages (from prompt-toolkit!=3.0.0,!=3.0.1,<3.1.0,>=2.0.0->ipython>=4.0.0->ipywidgets) (0.2.13)\n",
            "Requirement already satisfied: platformdirs>=2.5 in /usr/local/lib/python3.10/dist-packages (from jupyter-core>=4.6.1->notebook>=4.4.1->widgetsnbextension~=3.6.0->ipywidgets) (4.2.0)\n",
            "Requirement already satisfied: jupyter-server>=1.8 in /usr/local/lib/python3.10/dist-packages (from nbclassic>=0.4.7->notebook>=4.4.1->widgetsnbextension~=3.6.0->ipywidgets) (1.24.0)\n",
            "Requirement already satisfied: notebook-shim>=0.2.3 in /usr/local/lib/python3.10/dist-packages (from nbclassic>=0.4.7->notebook>=4.4.1->widgetsnbextension~=3.6.0->ipywidgets) (0.2.4)\n",
            "Requirement already satisfied: lxml in /usr/local/lib/python3.10/dist-packages (from nbconvert>=5->notebook>=4.4.1->widgetsnbextension~=3.6.0->ipywidgets) (4.9.4)\n",
            "Requirement already satisfied: beautifulsoup4 in /usr/local/lib/python3.10/dist-packages (from nbconvert>=5->notebook>=4.4.1->widgetsnbextension~=3.6.0->ipywidgets) (4.12.3)\n",
            "Requirement already satisfied: bleach in /usr/local/lib/python3.10/dist-packages (from nbconvert>=5->notebook>=4.4.1->widgetsnbextension~=3.6.0->ipywidgets) (6.1.0)\n",
            "Requirement already satisfied: defusedxml in /usr/local/lib/python3.10/dist-packages (from nbconvert>=5->notebook>=4.4.1->widgetsnbextension~=3.6.0->ipywidgets) (0.7.1)\n",
            "Requirement already satisfied: entrypoints>=0.2.2 in /usr/local/lib/python3.10/dist-packages (from nbconvert>=5->notebook>=4.4.1->widgetsnbextension~=3.6.0->ipywidgets) (0.4)\n",
            "Requirement already satisfied: jupyterlab-pygments in /usr/local/lib/python3.10/dist-packages (from nbconvert>=5->notebook>=4.4.1->widgetsnbextension~=3.6.0->ipywidgets) (0.3.0)\n",
            "Requirement already satisfied: MarkupSafe>=2.0 in /usr/local/lib/python3.10/dist-packages (from nbconvert>=5->notebook>=4.4.1->widgetsnbextension~=3.6.0->ipywidgets) (2.1.5)\n",
            "Requirement already satisfied: mistune<2,>=0.8.1 in /usr/local/lib/python3.10/dist-packages (from nbconvert>=5->notebook>=4.4.1->widgetsnbextension~=3.6.0->ipywidgets) (0.8.4)\n",
            "Requirement already satisfied: nbclient>=0.5.0 in /usr/local/lib/python3.10/dist-packages (from nbconvert>=5->notebook>=4.4.1->widgetsnbextension~=3.6.0->ipywidgets) (0.9.0)\n",
            "Requirement already satisfied: packaging in /usr/local/lib/python3.10/dist-packages (from nbconvert>=5->notebook>=4.4.1->widgetsnbextension~=3.6.0->ipywidgets) (23.2)\n",
            "Requirement already satisfied: pandocfilters>=1.4.1 in /usr/local/lib/python3.10/dist-packages (from nbconvert>=5->notebook>=4.4.1->widgetsnbextension~=3.6.0->ipywidgets) (1.5.1)\n",
            "Requirement already satisfied: tinycss2 in /usr/local/lib/python3.10/dist-packages (from nbconvert>=5->notebook>=4.4.1->widgetsnbextension~=3.6.0->ipywidgets) (1.2.1)\n",
            "Requirement already satisfied: fastjsonschema in /usr/local/lib/python3.10/dist-packages (from nbformat->notebook>=4.4.1->widgetsnbextension~=3.6.0->ipywidgets) (2.19.1)\n",
            "Requirement already satisfied: jsonschema>=2.6 in /usr/local/lib/python3.10/dist-packages (from nbformat->notebook>=4.4.1->widgetsnbextension~=3.6.0->ipywidgets) (4.19.2)\n",
            "Requirement already satisfied: six>=1.5 in /usr/local/lib/python3.10/dist-packages (from python-dateutil>=2.1->jupyter-client->ipykernel>=4.5.1->ipywidgets) (1.16.0)\n",
            "Requirement already satisfied: argon2-cffi-bindings in /usr/local/lib/python3.10/dist-packages (from argon2-cffi->notebook>=4.4.1->widgetsnbextension~=3.6.0->ipywidgets) (21.2.0)\n",
            "Requirement already satisfied: attrs>=22.2.0 in /usr/local/lib/python3.10/dist-packages (from jsonschema>=2.6->nbformat->notebook>=4.4.1->widgetsnbextension~=3.6.0->ipywidgets) (23.2.0)\n",
            "Requirement already satisfied: jsonschema-specifications>=2023.03.6 in /usr/local/lib/python3.10/dist-packages (from jsonschema>=2.6->nbformat->notebook>=4.4.1->widgetsnbextension~=3.6.0->ipywidgets) (2023.12.1)\n",
            "Requirement already satisfied: referencing>=0.28.4 in /usr/local/lib/python3.10/dist-packages (from jsonschema>=2.6->nbformat->notebook>=4.4.1->widgetsnbextension~=3.6.0->ipywidgets) (0.33.0)\n",
            "Requirement already satisfied: rpds-py>=0.7.1 in /usr/local/lib/python3.10/dist-packages (from jsonschema>=2.6->nbformat->notebook>=4.4.1->widgetsnbextension~=3.6.0->ipywidgets) (0.18.0)\n",
            "Requirement already satisfied: anyio<4,>=3.1.0 in /usr/local/lib/python3.10/dist-packages (from jupyter-server>=1.8->nbclassic>=0.4.7->notebook>=4.4.1->widgetsnbextension~=3.6.0->ipywidgets) (3.7.1)\n",
            "Requirement already satisfied: websocket-client in /usr/local/lib/python3.10/dist-packages (from jupyter-server>=1.8->nbclassic>=0.4.7->notebook>=4.4.1->widgetsnbextension~=3.6.0->ipywidgets) (1.7.0)\n",
            "Requirement already satisfied: cffi>=1.0.1 in /usr/local/lib/python3.10/dist-packages (from argon2-cffi-bindings->argon2-cffi->notebook>=4.4.1->widgetsnbextension~=3.6.0->ipywidgets) (1.16.0)\n",
            "Requirement already satisfied: soupsieve>1.2 in /usr/local/lib/python3.10/dist-packages (from beautifulsoup4->nbconvert>=5->notebook>=4.4.1->widgetsnbextension~=3.6.0->ipywidgets) (2.5)\n",
            "Requirement already satisfied: webencodings in /usr/local/lib/python3.10/dist-packages (from bleach->nbconvert>=5->notebook>=4.4.1->widgetsnbextension~=3.6.0->ipywidgets) (0.5.1)\n",
            "Requirement already satisfied: idna>=2.8 in /usr/local/lib/python3.10/dist-packages (from anyio<4,>=3.1.0->jupyter-server>=1.8->nbclassic>=0.4.7->notebook>=4.4.1->widgetsnbextension~=3.6.0->ipywidgets) (3.6)\n",
            "Requirement already satisfied: sniffio>=1.1 in /usr/local/lib/python3.10/dist-packages (from anyio<4,>=3.1.0->jupyter-server>=1.8->nbclassic>=0.4.7->notebook>=4.4.1->widgetsnbextension~=3.6.0->ipywidgets) (1.3.1)\n",
            "Requirement already satisfied: exceptiongroup in /usr/local/lib/python3.10/dist-packages (from anyio<4,>=3.1.0->jupyter-server>=1.8->nbclassic>=0.4.7->notebook>=4.4.1->widgetsnbextension~=3.6.0->ipywidgets) (1.2.0)\n",
            "Requirement already satisfied: pycparser in /usr/local/lib/python3.10/dist-packages (from cffi>=1.0.1->argon2-cffi-bindings->argon2-cffi->notebook>=4.4.1->widgetsnbextension~=3.6.0->ipywidgets) (2.21)\n",
            "Requirement already satisfied: seaborn in /usr/local/lib/python3.10/dist-packages (0.13.1)\n",
            "Requirement already satisfied: numpy!=1.24.0,>=1.20 in /usr/local/lib/python3.10/dist-packages (from seaborn) (1.25.2)\n",
            "Requirement already satisfied: pandas>=1.2 in /usr/local/lib/python3.10/dist-packages (from seaborn) (1.5.3)\n",
            "Requirement already satisfied: matplotlib!=3.6.1,>=3.4 in /usr/local/lib/python3.10/dist-packages (from seaborn) (3.7.1)\n",
            "Requirement already satisfied: contourpy>=1.0.1 in /usr/local/lib/python3.10/dist-packages (from matplotlib!=3.6.1,>=3.4->seaborn) (1.2.0)\n",
            "Requirement already satisfied: cycler>=0.10 in /usr/local/lib/python3.10/dist-packages (from matplotlib!=3.6.1,>=3.4->seaborn) (0.12.1)\n",
            "Requirement already satisfied: fonttools>=4.22.0 in /usr/local/lib/python3.10/dist-packages (from matplotlib!=3.6.1,>=3.4->seaborn) (4.49.0)\n",
            "Requirement already satisfied: kiwisolver>=1.0.1 in /usr/local/lib/python3.10/dist-packages (from matplotlib!=3.6.1,>=3.4->seaborn) (1.4.5)\n",
            "Requirement already satisfied: packaging>=20.0 in /usr/local/lib/python3.10/dist-packages (from matplotlib!=3.6.1,>=3.4->seaborn) (23.2)\n",
            "Requirement already satisfied: pillow>=6.2.0 in /usr/local/lib/python3.10/dist-packages (from matplotlib!=3.6.1,>=3.4->seaborn) (9.4.0)\n",
            "Requirement already satisfied: pyparsing>=2.3.1 in /usr/local/lib/python3.10/dist-packages (from matplotlib!=3.6.1,>=3.4->seaborn) (3.1.1)\n",
            "Requirement already satisfied: python-dateutil>=2.7 in /usr/local/lib/python3.10/dist-packages (from matplotlib!=3.6.1,>=3.4->seaborn) (2.8.2)\n",
            "Requirement already satisfied: pytz>=2020.1 in /usr/local/lib/python3.10/dist-packages (from pandas>=1.2->seaborn) (2023.4)\n",
            "Requirement already satisfied: six>=1.5 in /usr/local/lib/python3.10/dist-packages (from python-dateutil>=2.7->matplotlib!=3.6.1,>=3.4->seaborn) (1.16.0)\n"
          ]
        }
      ],
      "source": [
        "!pip install catboost\n",
        "!pip install numpy\n",
        "!pip install pandas\n",
        "!pip install scikit-learn\n",
        "!pip install traitlets\n",
        "!pip install ipython\n",
        "!pip install ipywidgets\n",
        "!pip install seaborn\n",
        "import pandas as pd\n",
        "import numpy as np\n",
        "import matplotlib.pyplot as plt\n",
        "import seaborn as sns\n",
        "from catboost import CatBoostRanker, Pool, MetricVisualizer\n",
        "from copy import deepcopy\n",
        "\n",
        "plt.style.use(\"Solarize_Light2\")\n",
        "\n",
        "\n",
        "from sklearn.model_selection import train_test_split\n",
        "from sklearn.metrics import ndcg_score\n",
        "\n",
        "\n"
      ]
    },
    {
      "cell_type": "code",
      "source": [
        "!wget --no-check-certificate 'https://docs.google.com/uc?export=download&id=1r8iEoCt-qKEzbGrmT414vbv9_rbPlrNW' -O train_df.csv\n",
        "!wget --no-check-certificate 'https://docs.google.com/uc?export=download&id=1PCmLbAjAjseei3n_dQVwDqxArs25mIBJ' -O test_df.csv"
      ],
      "metadata": {
        "colab": {
          "base_uri": "https://localhost:8080/"
        },
        "id": "0Fzoq1LbR14C",
        "outputId": "da60df8a-7aaf-40d1-a283-1f2ea9abec76"
      },
      "execution_count": 2,
      "outputs": [
        {
          "output_type": "stream",
          "name": "stdout",
          "text": [
            "--2024-03-08 16:24:15--  https://docs.google.com/uc?export=download&id=1r8iEoCt-qKEzbGrmT414vbv9_rbPlrNW\n",
            "Resolving docs.google.com (docs.google.com)... 172.253.123.102, 172.253.123.139, 172.253.123.113, ...\n",
            "Connecting to docs.google.com (docs.google.com)|172.253.123.102|:443... connected.\n",
            "HTTP request sent, awaiting response... 303 See Other\n",
            "Location: https://drive.usercontent.google.com/download?id=1r8iEoCt-qKEzbGrmT414vbv9_rbPlrNW&export=download [following]\n",
            "--2024-03-08 16:24:15--  https://drive.usercontent.google.com/download?id=1r8iEoCt-qKEzbGrmT414vbv9_rbPlrNW&export=download\n",
            "Resolving drive.usercontent.google.com (drive.usercontent.google.com)... 142.250.97.132, 2607:f8b0:400c:c18::84\n",
            "Connecting to drive.usercontent.google.com (drive.usercontent.google.com)|142.250.97.132|:443... connected.\n",
            "HTTP request sent, awaiting response... 200 OK\n",
            "Length: 7223337 (6.9M) [application/octet-stream]\n",
            "Saving to: ‘train_df.csv’\n",
            "\n",
            "train_df.csv        100%[===================>]   6.89M  --.-KB/s    in 0.1s    \n",
            "\n",
            "2024-03-08 16:24:15 (71.3 MB/s) - ‘train_df.csv’ saved [7223337/7223337]\n",
            "\n",
            "--2024-03-08 16:24:15--  https://docs.google.com/uc?export=download&id=1PCmLbAjAjseei3n_dQVwDqxArs25mIBJ\n",
            "Resolving docs.google.com (docs.google.com)... 172.253.123.102, 172.253.123.139, 172.253.123.113, ...\n",
            "Connecting to docs.google.com (docs.google.com)|172.253.123.102|:443... connected.\n",
            "HTTP request sent, awaiting response... 303 See Other\n",
            "Location: https://drive.usercontent.google.com/download?id=1PCmLbAjAjseei3n_dQVwDqxArs25mIBJ&export=download [following]\n",
            "--2024-03-08 16:24:15--  https://drive.usercontent.google.com/download?id=1PCmLbAjAjseei3n_dQVwDqxArs25mIBJ&export=download\n",
            "Resolving drive.usercontent.google.com (drive.usercontent.google.com)... 142.250.97.132, 2607:f8b0:400c:c18::84\n",
            "Connecting to drive.usercontent.google.com (drive.usercontent.google.com)|142.250.97.132|:443... connected.\n",
            "HTTP request sent, awaiting response... 200 OK\n",
            "Length: 729640 (713K) [application/octet-stream]\n",
            "Saving to: ‘test_df.csv’\n",
            "\n",
            "test_df.csv         100%[===================>] 712.54K  --.-KB/s    in 0.008s  \n",
            "\n",
            "2024-03-08 16:24:16 (89.5 MB/s) - ‘test_df.csv’ saved [729640/729640]\n",
            "\n"
          ]
        }
      ]
    },
    {
      "cell_type": "code",
      "source": [
        "!python --version"
      ],
      "metadata": {
        "colab": {
          "base_uri": "https://localhost:8080/"
        },
        "id": "hGwI6fudLVFr",
        "outputId": "6a07f69e-b9a8-45bf-e975-a72f071a6a67"
      },
      "execution_count": 3,
      "outputs": [
        {
          "output_type": "stream",
          "name": "stdout",
          "text": [
            "Python 3.10.12\n"
          ]
        }
      ]
    },
    {
      "cell_type": "code",
      "source": [
        "train_df = pd.read_csv('train_df.csv')\n",
        "test_df = pd.read_csv('test_df.csv')"
      ],
      "metadata": {
        "id": "3KvY1sNtxhN7"
      },
      "execution_count": 4,
      "outputs": []
    },
    {
      "cell_type": "code",
      "source": [
        "train_df.head()"
      ],
      "metadata": {
        "colab": {
          "base_uri": "https://localhost:8080/",
          "height": 256
        },
        "id": "O9Oeqjnbx51B",
        "outputId": "21062857-56b5-4bd3-b03d-9048aaa2708a"
      },
      "execution_count": 5,
      "outputs": [
        {
          "output_type": "execute_result",
          "data": {
            "text/plain": [
              "   search_id  feature_0  feature_1  feature_2  feature_3  feature_4  \\\n",
              "0        758          9          0          0          1         20   \n",
              "1        758          9          0          0          1         20   \n",
              "2        758          9          0          0          1         20   \n",
              "3        758          9          0          0          1         20   \n",
              "4        758          9          0          0          1         20   \n",
              "\n",
              "   feature_5  feature_6  feature_7  feature_8  ...  feature_70  feature_71  \\\n",
              "0          3         40          0          3  ...    0.204682    0.271755   \n",
              "1          3         40          0          3  ...    0.195531    0.188787   \n",
              "2          3         40          0          3  ...    0.148609    0.186517   \n",
              "3          3         40          0          3  ...    0.223748    0.229039   \n",
              "4          3         40          0          3  ...    0.170935    0.249031   \n",
              "\n",
              "   feature_72  feature_73  feature_74  feature_75  feature_76  feature_77  \\\n",
              "0    0.055623           0           0           0     0.38648         0.0   \n",
              "1    0.036914           0           0           0     0.10982         0.0   \n",
              "2    0.027718           0           0           0     0.03674         0.0   \n",
              "3    0.051247           0           0           0     0.00000         0.0   \n",
              "4    0.042568           0           0           0     0.00000         0.0   \n",
              "\n",
              "   feature_78  target  \n",
              "0         0.0       0  \n",
              "1         0.0       0  \n",
              "2         0.0       0  \n",
              "3         0.0       0  \n",
              "4         0.0       0  \n",
              "\n",
              "[5 rows x 81 columns]"
            ],
            "text/html": [
              "\n",
              "  <div id=\"df-a15047dc-fa75-4bf8-9056-722b5d36ab4b\" class=\"colab-df-container\">\n",
              "    <div>\n",
              "<style scoped>\n",
              "    .dataframe tbody tr th:only-of-type {\n",
              "        vertical-align: middle;\n",
              "    }\n",
              "\n",
              "    .dataframe tbody tr th {\n",
              "        vertical-align: top;\n",
              "    }\n",
              "\n",
              "    .dataframe thead th {\n",
              "        text-align: right;\n",
              "    }\n",
              "</style>\n",
              "<table border=\"1\" class=\"dataframe\">\n",
              "  <thead>\n",
              "    <tr style=\"text-align: right;\">\n",
              "      <th></th>\n",
              "      <th>search_id</th>\n",
              "      <th>feature_0</th>\n",
              "      <th>feature_1</th>\n",
              "      <th>feature_2</th>\n",
              "      <th>feature_3</th>\n",
              "      <th>feature_4</th>\n",
              "      <th>feature_5</th>\n",
              "      <th>feature_6</th>\n",
              "      <th>feature_7</th>\n",
              "      <th>feature_8</th>\n",
              "      <th>...</th>\n",
              "      <th>feature_70</th>\n",
              "      <th>feature_71</th>\n",
              "      <th>feature_72</th>\n",
              "      <th>feature_73</th>\n",
              "      <th>feature_74</th>\n",
              "      <th>feature_75</th>\n",
              "      <th>feature_76</th>\n",
              "      <th>feature_77</th>\n",
              "      <th>feature_78</th>\n",
              "      <th>target</th>\n",
              "    </tr>\n",
              "  </thead>\n",
              "  <tbody>\n",
              "    <tr>\n",
              "      <th>0</th>\n",
              "      <td>758</td>\n",
              "      <td>9</td>\n",
              "      <td>0</td>\n",
              "      <td>0</td>\n",
              "      <td>1</td>\n",
              "      <td>20</td>\n",
              "      <td>3</td>\n",
              "      <td>40</td>\n",
              "      <td>0</td>\n",
              "      <td>3</td>\n",
              "      <td>...</td>\n",
              "      <td>0.204682</td>\n",
              "      <td>0.271755</td>\n",
              "      <td>0.055623</td>\n",
              "      <td>0</td>\n",
              "      <td>0</td>\n",
              "      <td>0</td>\n",
              "      <td>0.38648</td>\n",
              "      <td>0.0</td>\n",
              "      <td>0.0</td>\n",
              "      <td>0</td>\n",
              "    </tr>\n",
              "    <tr>\n",
              "      <th>1</th>\n",
              "      <td>758</td>\n",
              "      <td>9</td>\n",
              "      <td>0</td>\n",
              "      <td>0</td>\n",
              "      <td>1</td>\n",
              "      <td>20</td>\n",
              "      <td>3</td>\n",
              "      <td>40</td>\n",
              "      <td>0</td>\n",
              "      <td>3</td>\n",
              "      <td>...</td>\n",
              "      <td>0.195531</td>\n",
              "      <td>0.188787</td>\n",
              "      <td>0.036914</td>\n",
              "      <td>0</td>\n",
              "      <td>0</td>\n",
              "      <td>0</td>\n",
              "      <td>0.10982</td>\n",
              "      <td>0.0</td>\n",
              "      <td>0.0</td>\n",
              "      <td>0</td>\n",
              "    </tr>\n",
              "    <tr>\n",
              "      <th>2</th>\n",
              "      <td>758</td>\n",
              "      <td>9</td>\n",
              "      <td>0</td>\n",
              "      <td>0</td>\n",
              "      <td>1</td>\n",
              "      <td>20</td>\n",
              "      <td>3</td>\n",
              "      <td>40</td>\n",
              "      <td>0</td>\n",
              "      <td>3</td>\n",
              "      <td>...</td>\n",
              "      <td>0.148609</td>\n",
              "      <td>0.186517</td>\n",
              "      <td>0.027718</td>\n",
              "      <td>0</td>\n",
              "      <td>0</td>\n",
              "      <td>0</td>\n",
              "      <td>0.03674</td>\n",
              "      <td>0.0</td>\n",
              "      <td>0.0</td>\n",
              "      <td>0</td>\n",
              "    </tr>\n",
              "    <tr>\n",
              "      <th>3</th>\n",
              "      <td>758</td>\n",
              "      <td>9</td>\n",
              "      <td>0</td>\n",
              "      <td>0</td>\n",
              "      <td>1</td>\n",
              "      <td>20</td>\n",
              "      <td>3</td>\n",
              "      <td>40</td>\n",
              "      <td>0</td>\n",
              "      <td>3</td>\n",
              "      <td>...</td>\n",
              "      <td>0.223748</td>\n",
              "      <td>0.229039</td>\n",
              "      <td>0.051247</td>\n",
              "      <td>0</td>\n",
              "      <td>0</td>\n",
              "      <td>0</td>\n",
              "      <td>0.00000</td>\n",
              "      <td>0.0</td>\n",
              "      <td>0.0</td>\n",
              "      <td>0</td>\n",
              "    </tr>\n",
              "    <tr>\n",
              "      <th>4</th>\n",
              "      <td>758</td>\n",
              "      <td>9</td>\n",
              "      <td>0</td>\n",
              "      <td>0</td>\n",
              "      <td>1</td>\n",
              "      <td>20</td>\n",
              "      <td>3</td>\n",
              "      <td>40</td>\n",
              "      <td>0</td>\n",
              "      <td>3</td>\n",
              "      <td>...</td>\n",
              "      <td>0.170935</td>\n",
              "      <td>0.249031</td>\n",
              "      <td>0.042568</td>\n",
              "      <td>0</td>\n",
              "      <td>0</td>\n",
              "      <td>0</td>\n",
              "      <td>0.00000</td>\n",
              "      <td>0.0</td>\n",
              "      <td>0.0</td>\n",
              "      <td>0</td>\n",
              "    </tr>\n",
              "  </tbody>\n",
              "</table>\n",
              "<p>5 rows × 81 columns</p>\n",
              "</div>\n",
              "    <div class=\"colab-df-buttons\">\n",
              "\n",
              "  <div class=\"colab-df-container\">\n",
              "    <button class=\"colab-df-convert\" onclick=\"convertToInteractive('df-a15047dc-fa75-4bf8-9056-722b5d36ab4b')\"\n",
              "            title=\"Convert this dataframe to an interactive table.\"\n",
              "            style=\"display:none;\">\n",
              "\n",
              "  <svg xmlns=\"http://www.w3.org/2000/svg\" height=\"24px\" viewBox=\"0 -960 960 960\">\n",
              "    <path d=\"M120-120v-720h720v720H120Zm60-500h600v-160H180v160Zm220 220h160v-160H400v160Zm0 220h160v-160H400v160ZM180-400h160v-160H180v160Zm440 0h160v-160H620v160ZM180-180h160v-160H180v160Zm440 0h160v-160H620v160Z\"/>\n",
              "  </svg>\n",
              "    </button>\n",
              "\n",
              "  <style>\n",
              "    .colab-df-container {\n",
              "      display:flex;\n",
              "      gap: 12px;\n",
              "    }\n",
              "\n",
              "    .colab-df-convert {\n",
              "      background-color: #E8F0FE;\n",
              "      border: none;\n",
              "      border-radius: 50%;\n",
              "      cursor: pointer;\n",
              "      display: none;\n",
              "      fill: #1967D2;\n",
              "      height: 32px;\n",
              "      padding: 0 0 0 0;\n",
              "      width: 32px;\n",
              "    }\n",
              "\n",
              "    .colab-df-convert:hover {\n",
              "      background-color: #E2EBFA;\n",
              "      box-shadow: 0px 1px 2px rgba(60, 64, 67, 0.3), 0px 1px 3px 1px rgba(60, 64, 67, 0.15);\n",
              "      fill: #174EA6;\n",
              "    }\n",
              "\n",
              "    .colab-df-buttons div {\n",
              "      margin-bottom: 4px;\n",
              "    }\n",
              "\n",
              "    [theme=dark] .colab-df-convert {\n",
              "      background-color: #3B4455;\n",
              "      fill: #D2E3FC;\n",
              "    }\n",
              "\n",
              "    [theme=dark] .colab-df-convert:hover {\n",
              "      background-color: #434B5C;\n",
              "      box-shadow: 0px 1px 3px 1px rgba(0, 0, 0, 0.15);\n",
              "      filter: drop-shadow(0px 1px 2px rgba(0, 0, 0, 0.3));\n",
              "      fill: #FFFFFF;\n",
              "    }\n",
              "  </style>\n",
              "\n",
              "    <script>\n",
              "      const buttonEl =\n",
              "        document.querySelector('#df-a15047dc-fa75-4bf8-9056-722b5d36ab4b button.colab-df-convert');\n",
              "      buttonEl.style.display =\n",
              "        google.colab.kernel.accessAllowed ? 'block' : 'none';\n",
              "\n",
              "      async function convertToInteractive(key) {\n",
              "        const element = document.querySelector('#df-a15047dc-fa75-4bf8-9056-722b5d36ab4b');\n",
              "        const dataTable =\n",
              "          await google.colab.kernel.invokeFunction('convertToInteractive',\n",
              "                                                    [key], {});\n",
              "        if (!dataTable) return;\n",
              "\n",
              "        const docLinkHtml = 'Like what you see? Visit the ' +\n",
              "          '<a target=\"_blank\" href=https://colab.research.google.com/notebooks/data_table.ipynb>data table notebook</a>'\n",
              "          + ' to learn more about interactive tables.';\n",
              "        element.innerHTML = '';\n",
              "        dataTable['output_type'] = 'display_data';\n",
              "        await google.colab.output.renderOutput(dataTable, element);\n",
              "        const docLink = document.createElement('div');\n",
              "        docLink.innerHTML = docLinkHtml;\n",
              "        element.appendChild(docLink);\n",
              "      }\n",
              "    </script>\n",
              "  </div>\n",
              "\n",
              "\n",
              "<div id=\"df-61d6e447-6bc6-4670-a46b-5290257e4f68\">\n",
              "  <button class=\"colab-df-quickchart\" onclick=\"quickchart('df-61d6e447-6bc6-4670-a46b-5290257e4f68')\"\n",
              "            title=\"Suggest charts\"\n",
              "            style=\"display:none;\">\n",
              "\n",
              "<svg xmlns=\"http://www.w3.org/2000/svg\" height=\"24px\"viewBox=\"0 0 24 24\"\n",
              "     width=\"24px\">\n",
              "    <g>\n",
              "        <path d=\"M19 3H5c-1.1 0-2 .9-2 2v14c0 1.1.9 2 2 2h14c1.1 0 2-.9 2-2V5c0-1.1-.9-2-2-2zM9 17H7v-7h2v7zm4 0h-2V7h2v10zm4 0h-2v-4h2v4z\"/>\n",
              "    </g>\n",
              "</svg>\n",
              "  </button>\n",
              "\n",
              "<style>\n",
              "  .colab-df-quickchart {\n",
              "      --bg-color: #E8F0FE;\n",
              "      --fill-color: #1967D2;\n",
              "      --hover-bg-color: #E2EBFA;\n",
              "      --hover-fill-color: #174EA6;\n",
              "      --disabled-fill-color: #AAA;\n",
              "      --disabled-bg-color: #DDD;\n",
              "  }\n",
              "\n",
              "  [theme=dark] .colab-df-quickchart {\n",
              "      --bg-color: #3B4455;\n",
              "      --fill-color: #D2E3FC;\n",
              "      --hover-bg-color: #434B5C;\n",
              "      --hover-fill-color: #FFFFFF;\n",
              "      --disabled-bg-color: #3B4455;\n",
              "      --disabled-fill-color: #666;\n",
              "  }\n",
              "\n",
              "  .colab-df-quickchart {\n",
              "    background-color: var(--bg-color);\n",
              "    border: none;\n",
              "    border-radius: 50%;\n",
              "    cursor: pointer;\n",
              "    display: none;\n",
              "    fill: var(--fill-color);\n",
              "    height: 32px;\n",
              "    padding: 0;\n",
              "    width: 32px;\n",
              "  }\n",
              "\n",
              "  .colab-df-quickchart:hover {\n",
              "    background-color: var(--hover-bg-color);\n",
              "    box-shadow: 0 1px 2px rgba(60, 64, 67, 0.3), 0 1px 3px 1px rgba(60, 64, 67, 0.15);\n",
              "    fill: var(--button-hover-fill-color);\n",
              "  }\n",
              "\n",
              "  .colab-df-quickchart-complete:disabled,\n",
              "  .colab-df-quickchart-complete:disabled:hover {\n",
              "    background-color: var(--disabled-bg-color);\n",
              "    fill: var(--disabled-fill-color);\n",
              "    box-shadow: none;\n",
              "  }\n",
              "\n",
              "  .colab-df-spinner {\n",
              "    border: 2px solid var(--fill-color);\n",
              "    border-color: transparent;\n",
              "    border-bottom-color: var(--fill-color);\n",
              "    animation:\n",
              "      spin 1s steps(1) infinite;\n",
              "  }\n",
              "\n",
              "  @keyframes spin {\n",
              "    0% {\n",
              "      border-color: transparent;\n",
              "      border-bottom-color: var(--fill-color);\n",
              "      border-left-color: var(--fill-color);\n",
              "    }\n",
              "    20% {\n",
              "      border-color: transparent;\n",
              "      border-left-color: var(--fill-color);\n",
              "      border-top-color: var(--fill-color);\n",
              "    }\n",
              "    30% {\n",
              "      border-color: transparent;\n",
              "      border-left-color: var(--fill-color);\n",
              "      border-top-color: var(--fill-color);\n",
              "      border-right-color: var(--fill-color);\n",
              "    }\n",
              "    40% {\n",
              "      border-color: transparent;\n",
              "      border-right-color: var(--fill-color);\n",
              "      border-top-color: var(--fill-color);\n",
              "    }\n",
              "    60% {\n",
              "      border-color: transparent;\n",
              "      border-right-color: var(--fill-color);\n",
              "    }\n",
              "    80% {\n",
              "      border-color: transparent;\n",
              "      border-right-color: var(--fill-color);\n",
              "      border-bottom-color: var(--fill-color);\n",
              "    }\n",
              "    90% {\n",
              "      border-color: transparent;\n",
              "      border-bottom-color: var(--fill-color);\n",
              "    }\n",
              "  }\n",
              "</style>\n",
              "\n",
              "  <script>\n",
              "    async function quickchart(key) {\n",
              "      const quickchartButtonEl =\n",
              "        document.querySelector('#' + key + ' button');\n",
              "      quickchartButtonEl.disabled = true;  // To prevent multiple clicks.\n",
              "      quickchartButtonEl.classList.add('colab-df-spinner');\n",
              "      try {\n",
              "        const charts = await google.colab.kernel.invokeFunction(\n",
              "            'suggestCharts', [key], {});\n",
              "      } catch (error) {\n",
              "        console.error('Error during call to suggestCharts:', error);\n",
              "      }\n",
              "      quickchartButtonEl.classList.remove('colab-df-spinner');\n",
              "      quickchartButtonEl.classList.add('colab-df-quickchart-complete');\n",
              "    }\n",
              "    (() => {\n",
              "      let quickchartButtonEl =\n",
              "        document.querySelector('#df-61d6e447-6bc6-4670-a46b-5290257e4f68 button');\n",
              "      quickchartButtonEl.style.display =\n",
              "        google.colab.kernel.accessAllowed ? 'block' : 'none';\n",
              "    })();\n",
              "  </script>\n",
              "</div>\n",
              "    </div>\n",
              "  </div>\n"
            ],
            "application/vnd.google.colaboratory.intrinsic+json": {
              "type": "dataframe",
              "variable_name": "train_df"
            }
          },
          "metadata": {},
          "execution_count": 5
        }
      ]
    },
    {
      "cell_type": "code",
      "source": [
        "train_df.isna().sum().sum()"
      ],
      "metadata": {
        "colab": {
          "base_uri": "https://localhost:8080/"
        },
        "id": "z96wNErGnirW",
        "outputId": "21f67614-b12c-4d14-e503-060bed325ee7"
      },
      "execution_count": 6,
      "outputs": [
        {
          "output_type": "execute_result",
          "data": {
            "text/plain": [
              "0"
            ]
          },
          "metadata": {},
          "execution_count": 6
        }
      ]
    },
    {
      "cell_type": "code",
      "source": [
        "train_df.describe()"
      ],
      "metadata": {
        "colab": {
          "base_uri": "https://localhost:8080/",
          "height": 350
        },
        "id": "eJ6590Mh1TJp",
        "outputId": "5893ba77-5dad-46ae-8635-0df68d540db4"
      },
      "execution_count": 7,
      "outputs": [
        {
          "output_type": "execute_result",
          "data": {
            "text/plain": [
              "           search_id  feature_0     feature_1     feature_2     feature_3  \\\n",
              "count   15081.000000    15081.0  15081.000000  15081.000000  15081.000000   \n",
              "mean   254806.827465        9.0      0.193754      0.464293      0.629865   \n",
              "std    142374.568081        0.0      0.626654      1.183076      0.482857   \n",
              "min       116.000000        9.0      0.000000      0.000000      0.000000   \n",
              "25%    134823.000000        9.0      0.000000      0.000000      0.000000   \n",
              "50%    255859.000000        9.0      0.000000      0.000000      1.000000   \n",
              "75%    376175.000000        9.0      0.000000      0.000000      1.000000   \n",
              "max    496975.000000        9.0      3.000000      6.000000      1.000000   \n",
              "\n",
              "          feature_4     feature_5     feature_6     feature_7     feature_8  \\\n",
              "count  15081.000000  15081.000000  15081.000000  15081.000000  15081.000000   \n",
              "mean      15.928519      3.876401     33.802467      1.211193      1.793847   \n",
              "std        5.311422      0.469749     11.316810      2.234887      1.885131   \n",
              "min        9.000000      0.000000      0.000000      0.000000      0.000000   \n",
              "25%        9.000000      4.000000     26.000000      0.000000      0.000000   \n",
              "50%       20.000000      4.000000     34.000000      0.000000      2.000000   \n",
              "75%       20.000000      4.000000     44.000000      1.000000      3.000000   \n",
              "max       20.000000      6.000000     49.000000      7.000000      7.000000   \n",
              "\n",
              "       ...    feature_70    feature_71    feature_72  feature_73  feature_74  \\\n",
              "count  ...  15081.000000  15081.000000  15081.000000     15081.0     15081.0   \n",
              "mean   ...      0.199545      0.426543      0.096461         0.0         0.0   \n",
              "std    ...      0.088724      0.247388      0.063323         0.0         0.0   \n",
              "min    ...      0.000000      0.000000      0.000000         0.0         0.0   \n",
              "25%    ...      0.168583      0.255086      0.052658         0.0         0.0   \n",
              "50%    ...      0.212743      0.430880      0.091705         0.0         0.0   \n",
              "75%    ...      0.253825      0.603686      0.136017         0.0         0.0   \n",
              "max    ...      0.485510      0.999072      0.411563         0.0         0.0   \n",
              "\n",
              "       feature_75    feature_76    feature_77    feature_78        target  \n",
              "count     15081.0  15081.000000  15081.000000  15081.000000  15081.000000  \n",
              "mean          0.0      0.297465      0.030543      0.031207      0.021351  \n",
              "std           0.0      0.311962      0.112984      0.115598      0.144558  \n",
              "min           0.0      0.000000      0.000000      0.000000      0.000000  \n",
              "25%           0.0      0.036740      0.000000      0.000000      0.000000  \n",
              "50%           0.0      0.176140      0.000000      0.000000      0.000000  \n",
              "75%           0.0      0.529100      0.000000      0.000000      0.000000  \n",
              "max           0.0      1.000020      0.846272      0.908132      1.000000  \n",
              "\n",
              "[8 rows x 81 columns]"
            ],
            "text/html": [
              "\n",
              "  <div id=\"df-42e26201-bbf4-4b60-b498-11ff96d6714a\" class=\"colab-df-container\">\n",
              "    <div>\n",
              "<style scoped>\n",
              "    .dataframe tbody tr th:only-of-type {\n",
              "        vertical-align: middle;\n",
              "    }\n",
              "\n",
              "    .dataframe tbody tr th {\n",
              "        vertical-align: top;\n",
              "    }\n",
              "\n",
              "    .dataframe thead th {\n",
              "        text-align: right;\n",
              "    }\n",
              "</style>\n",
              "<table border=\"1\" class=\"dataframe\">\n",
              "  <thead>\n",
              "    <tr style=\"text-align: right;\">\n",
              "      <th></th>\n",
              "      <th>search_id</th>\n",
              "      <th>feature_0</th>\n",
              "      <th>feature_1</th>\n",
              "      <th>feature_2</th>\n",
              "      <th>feature_3</th>\n",
              "      <th>feature_4</th>\n",
              "      <th>feature_5</th>\n",
              "      <th>feature_6</th>\n",
              "      <th>feature_7</th>\n",
              "      <th>feature_8</th>\n",
              "      <th>...</th>\n",
              "      <th>feature_70</th>\n",
              "      <th>feature_71</th>\n",
              "      <th>feature_72</th>\n",
              "      <th>feature_73</th>\n",
              "      <th>feature_74</th>\n",
              "      <th>feature_75</th>\n",
              "      <th>feature_76</th>\n",
              "      <th>feature_77</th>\n",
              "      <th>feature_78</th>\n",
              "      <th>target</th>\n",
              "    </tr>\n",
              "  </thead>\n",
              "  <tbody>\n",
              "    <tr>\n",
              "      <th>count</th>\n",
              "      <td>15081.000000</td>\n",
              "      <td>15081.0</td>\n",
              "      <td>15081.000000</td>\n",
              "      <td>15081.000000</td>\n",
              "      <td>15081.000000</td>\n",
              "      <td>15081.000000</td>\n",
              "      <td>15081.000000</td>\n",
              "      <td>15081.000000</td>\n",
              "      <td>15081.000000</td>\n",
              "      <td>15081.000000</td>\n",
              "      <td>...</td>\n",
              "      <td>15081.000000</td>\n",
              "      <td>15081.000000</td>\n",
              "      <td>15081.000000</td>\n",
              "      <td>15081.0</td>\n",
              "      <td>15081.0</td>\n",
              "      <td>15081.0</td>\n",
              "      <td>15081.000000</td>\n",
              "      <td>15081.000000</td>\n",
              "      <td>15081.000000</td>\n",
              "      <td>15081.000000</td>\n",
              "    </tr>\n",
              "    <tr>\n",
              "      <th>mean</th>\n",
              "      <td>254806.827465</td>\n",
              "      <td>9.0</td>\n",
              "      <td>0.193754</td>\n",
              "      <td>0.464293</td>\n",
              "      <td>0.629865</td>\n",
              "      <td>15.928519</td>\n",
              "      <td>3.876401</td>\n",
              "      <td>33.802467</td>\n",
              "      <td>1.211193</td>\n",
              "      <td>1.793847</td>\n",
              "      <td>...</td>\n",
              "      <td>0.199545</td>\n",
              "      <td>0.426543</td>\n",
              "      <td>0.096461</td>\n",
              "      <td>0.0</td>\n",
              "      <td>0.0</td>\n",
              "      <td>0.0</td>\n",
              "      <td>0.297465</td>\n",
              "      <td>0.030543</td>\n",
              "      <td>0.031207</td>\n",
              "      <td>0.021351</td>\n",
              "    </tr>\n",
              "    <tr>\n",
              "      <th>std</th>\n",
              "      <td>142374.568081</td>\n",
              "      <td>0.0</td>\n",
              "      <td>0.626654</td>\n",
              "      <td>1.183076</td>\n",
              "      <td>0.482857</td>\n",
              "      <td>5.311422</td>\n",
              "      <td>0.469749</td>\n",
              "      <td>11.316810</td>\n",
              "      <td>2.234887</td>\n",
              "      <td>1.885131</td>\n",
              "      <td>...</td>\n",
              "      <td>0.088724</td>\n",
              "      <td>0.247388</td>\n",
              "      <td>0.063323</td>\n",
              "      <td>0.0</td>\n",
              "      <td>0.0</td>\n",
              "      <td>0.0</td>\n",
              "      <td>0.311962</td>\n",
              "      <td>0.112984</td>\n",
              "      <td>0.115598</td>\n",
              "      <td>0.144558</td>\n",
              "    </tr>\n",
              "    <tr>\n",
              "      <th>min</th>\n",
              "      <td>116.000000</td>\n",
              "      <td>9.0</td>\n",
              "      <td>0.000000</td>\n",
              "      <td>0.000000</td>\n",
              "      <td>0.000000</td>\n",
              "      <td>9.000000</td>\n",
              "      <td>0.000000</td>\n",
              "      <td>0.000000</td>\n",
              "      <td>0.000000</td>\n",
              "      <td>0.000000</td>\n",
              "      <td>...</td>\n",
              "      <td>0.000000</td>\n",
              "      <td>0.000000</td>\n",
              "      <td>0.000000</td>\n",
              "      <td>0.0</td>\n",
              "      <td>0.0</td>\n",
              "      <td>0.0</td>\n",
              "      <td>0.000000</td>\n",
              "      <td>0.000000</td>\n",
              "      <td>0.000000</td>\n",
              "      <td>0.000000</td>\n",
              "    </tr>\n",
              "    <tr>\n",
              "      <th>25%</th>\n",
              "      <td>134823.000000</td>\n",
              "      <td>9.0</td>\n",
              "      <td>0.000000</td>\n",
              "      <td>0.000000</td>\n",
              "      <td>0.000000</td>\n",
              "      <td>9.000000</td>\n",
              "      <td>4.000000</td>\n",
              "      <td>26.000000</td>\n",
              "      <td>0.000000</td>\n",
              "      <td>0.000000</td>\n",
              "      <td>...</td>\n",
              "      <td>0.168583</td>\n",
              "      <td>0.255086</td>\n",
              "      <td>0.052658</td>\n",
              "      <td>0.0</td>\n",
              "      <td>0.0</td>\n",
              "      <td>0.0</td>\n",
              "      <td>0.036740</td>\n",
              "      <td>0.000000</td>\n",
              "      <td>0.000000</td>\n",
              "      <td>0.000000</td>\n",
              "    </tr>\n",
              "    <tr>\n",
              "      <th>50%</th>\n",
              "      <td>255859.000000</td>\n",
              "      <td>9.0</td>\n",
              "      <td>0.000000</td>\n",
              "      <td>0.000000</td>\n",
              "      <td>1.000000</td>\n",
              "      <td>20.000000</td>\n",
              "      <td>4.000000</td>\n",
              "      <td>34.000000</td>\n",
              "      <td>0.000000</td>\n",
              "      <td>2.000000</td>\n",
              "      <td>...</td>\n",
              "      <td>0.212743</td>\n",
              "      <td>0.430880</td>\n",
              "      <td>0.091705</td>\n",
              "      <td>0.0</td>\n",
              "      <td>0.0</td>\n",
              "      <td>0.0</td>\n",
              "      <td>0.176140</td>\n",
              "      <td>0.000000</td>\n",
              "      <td>0.000000</td>\n",
              "      <td>0.000000</td>\n",
              "    </tr>\n",
              "    <tr>\n",
              "      <th>75%</th>\n",
              "      <td>376175.000000</td>\n",
              "      <td>9.0</td>\n",
              "      <td>0.000000</td>\n",
              "      <td>0.000000</td>\n",
              "      <td>1.000000</td>\n",
              "      <td>20.000000</td>\n",
              "      <td>4.000000</td>\n",
              "      <td>44.000000</td>\n",
              "      <td>1.000000</td>\n",
              "      <td>3.000000</td>\n",
              "      <td>...</td>\n",
              "      <td>0.253825</td>\n",
              "      <td>0.603686</td>\n",
              "      <td>0.136017</td>\n",
              "      <td>0.0</td>\n",
              "      <td>0.0</td>\n",
              "      <td>0.0</td>\n",
              "      <td>0.529100</td>\n",
              "      <td>0.000000</td>\n",
              "      <td>0.000000</td>\n",
              "      <td>0.000000</td>\n",
              "    </tr>\n",
              "    <tr>\n",
              "      <th>max</th>\n",
              "      <td>496975.000000</td>\n",
              "      <td>9.0</td>\n",
              "      <td>3.000000</td>\n",
              "      <td>6.000000</td>\n",
              "      <td>1.000000</td>\n",
              "      <td>20.000000</td>\n",
              "      <td>6.000000</td>\n",
              "      <td>49.000000</td>\n",
              "      <td>7.000000</td>\n",
              "      <td>7.000000</td>\n",
              "      <td>...</td>\n",
              "      <td>0.485510</td>\n",
              "      <td>0.999072</td>\n",
              "      <td>0.411563</td>\n",
              "      <td>0.0</td>\n",
              "      <td>0.0</td>\n",
              "      <td>0.0</td>\n",
              "      <td>1.000020</td>\n",
              "      <td>0.846272</td>\n",
              "      <td>0.908132</td>\n",
              "      <td>1.000000</td>\n",
              "    </tr>\n",
              "  </tbody>\n",
              "</table>\n",
              "<p>8 rows × 81 columns</p>\n",
              "</div>\n",
              "    <div class=\"colab-df-buttons\">\n",
              "\n",
              "  <div class=\"colab-df-container\">\n",
              "    <button class=\"colab-df-convert\" onclick=\"convertToInteractive('df-42e26201-bbf4-4b60-b498-11ff96d6714a')\"\n",
              "            title=\"Convert this dataframe to an interactive table.\"\n",
              "            style=\"display:none;\">\n",
              "\n",
              "  <svg xmlns=\"http://www.w3.org/2000/svg\" height=\"24px\" viewBox=\"0 -960 960 960\">\n",
              "    <path d=\"M120-120v-720h720v720H120Zm60-500h600v-160H180v160Zm220 220h160v-160H400v160Zm0 220h160v-160H400v160ZM180-400h160v-160H180v160Zm440 0h160v-160H620v160ZM180-180h160v-160H180v160Zm440 0h160v-160H620v160Z\"/>\n",
              "  </svg>\n",
              "    </button>\n",
              "\n",
              "  <style>\n",
              "    .colab-df-container {\n",
              "      display:flex;\n",
              "      gap: 12px;\n",
              "    }\n",
              "\n",
              "    .colab-df-convert {\n",
              "      background-color: #E8F0FE;\n",
              "      border: none;\n",
              "      border-radius: 50%;\n",
              "      cursor: pointer;\n",
              "      display: none;\n",
              "      fill: #1967D2;\n",
              "      height: 32px;\n",
              "      padding: 0 0 0 0;\n",
              "      width: 32px;\n",
              "    }\n",
              "\n",
              "    .colab-df-convert:hover {\n",
              "      background-color: #E2EBFA;\n",
              "      box-shadow: 0px 1px 2px rgba(60, 64, 67, 0.3), 0px 1px 3px 1px rgba(60, 64, 67, 0.15);\n",
              "      fill: #174EA6;\n",
              "    }\n",
              "\n",
              "    .colab-df-buttons div {\n",
              "      margin-bottom: 4px;\n",
              "    }\n",
              "\n",
              "    [theme=dark] .colab-df-convert {\n",
              "      background-color: #3B4455;\n",
              "      fill: #D2E3FC;\n",
              "    }\n",
              "\n",
              "    [theme=dark] .colab-df-convert:hover {\n",
              "      background-color: #434B5C;\n",
              "      box-shadow: 0px 1px 3px 1px rgba(0, 0, 0, 0.15);\n",
              "      filter: drop-shadow(0px 1px 2px rgba(0, 0, 0, 0.3));\n",
              "      fill: #FFFFFF;\n",
              "    }\n",
              "  </style>\n",
              "\n",
              "    <script>\n",
              "      const buttonEl =\n",
              "        document.querySelector('#df-42e26201-bbf4-4b60-b498-11ff96d6714a button.colab-df-convert');\n",
              "      buttonEl.style.display =\n",
              "        google.colab.kernel.accessAllowed ? 'block' : 'none';\n",
              "\n",
              "      async function convertToInteractive(key) {\n",
              "        const element = document.querySelector('#df-42e26201-bbf4-4b60-b498-11ff96d6714a');\n",
              "        const dataTable =\n",
              "          await google.colab.kernel.invokeFunction('convertToInteractive',\n",
              "                                                    [key], {});\n",
              "        if (!dataTable) return;\n",
              "\n",
              "        const docLinkHtml = 'Like what you see? Visit the ' +\n",
              "          '<a target=\"_blank\" href=https://colab.research.google.com/notebooks/data_table.ipynb>data table notebook</a>'\n",
              "          + ' to learn more about interactive tables.';\n",
              "        element.innerHTML = '';\n",
              "        dataTable['output_type'] = 'display_data';\n",
              "        await google.colab.output.renderOutput(dataTable, element);\n",
              "        const docLink = document.createElement('div');\n",
              "        docLink.innerHTML = docLinkHtml;\n",
              "        element.appendChild(docLink);\n",
              "      }\n",
              "    </script>\n",
              "  </div>\n",
              "\n",
              "\n",
              "<div id=\"df-dd6c9fa7-31a8-40f5-83b2-92143fff464d\">\n",
              "  <button class=\"colab-df-quickchart\" onclick=\"quickchart('df-dd6c9fa7-31a8-40f5-83b2-92143fff464d')\"\n",
              "            title=\"Suggest charts\"\n",
              "            style=\"display:none;\">\n",
              "\n",
              "<svg xmlns=\"http://www.w3.org/2000/svg\" height=\"24px\"viewBox=\"0 0 24 24\"\n",
              "     width=\"24px\">\n",
              "    <g>\n",
              "        <path d=\"M19 3H5c-1.1 0-2 .9-2 2v14c0 1.1.9 2 2 2h14c1.1 0 2-.9 2-2V5c0-1.1-.9-2-2-2zM9 17H7v-7h2v7zm4 0h-2V7h2v10zm4 0h-2v-4h2v4z\"/>\n",
              "    </g>\n",
              "</svg>\n",
              "  </button>\n",
              "\n",
              "<style>\n",
              "  .colab-df-quickchart {\n",
              "      --bg-color: #E8F0FE;\n",
              "      --fill-color: #1967D2;\n",
              "      --hover-bg-color: #E2EBFA;\n",
              "      --hover-fill-color: #174EA6;\n",
              "      --disabled-fill-color: #AAA;\n",
              "      --disabled-bg-color: #DDD;\n",
              "  }\n",
              "\n",
              "  [theme=dark] .colab-df-quickchart {\n",
              "      --bg-color: #3B4455;\n",
              "      --fill-color: #D2E3FC;\n",
              "      --hover-bg-color: #434B5C;\n",
              "      --hover-fill-color: #FFFFFF;\n",
              "      --disabled-bg-color: #3B4455;\n",
              "      --disabled-fill-color: #666;\n",
              "  }\n",
              "\n",
              "  .colab-df-quickchart {\n",
              "    background-color: var(--bg-color);\n",
              "    border: none;\n",
              "    border-radius: 50%;\n",
              "    cursor: pointer;\n",
              "    display: none;\n",
              "    fill: var(--fill-color);\n",
              "    height: 32px;\n",
              "    padding: 0;\n",
              "    width: 32px;\n",
              "  }\n",
              "\n",
              "  .colab-df-quickchart:hover {\n",
              "    background-color: var(--hover-bg-color);\n",
              "    box-shadow: 0 1px 2px rgba(60, 64, 67, 0.3), 0 1px 3px 1px rgba(60, 64, 67, 0.15);\n",
              "    fill: var(--button-hover-fill-color);\n",
              "  }\n",
              "\n",
              "  .colab-df-quickchart-complete:disabled,\n",
              "  .colab-df-quickchart-complete:disabled:hover {\n",
              "    background-color: var(--disabled-bg-color);\n",
              "    fill: var(--disabled-fill-color);\n",
              "    box-shadow: none;\n",
              "  }\n",
              "\n",
              "  .colab-df-spinner {\n",
              "    border: 2px solid var(--fill-color);\n",
              "    border-color: transparent;\n",
              "    border-bottom-color: var(--fill-color);\n",
              "    animation:\n",
              "      spin 1s steps(1) infinite;\n",
              "  }\n",
              "\n",
              "  @keyframes spin {\n",
              "    0% {\n",
              "      border-color: transparent;\n",
              "      border-bottom-color: var(--fill-color);\n",
              "      border-left-color: var(--fill-color);\n",
              "    }\n",
              "    20% {\n",
              "      border-color: transparent;\n",
              "      border-left-color: var(--fill-color);\n",
              "      border-top-color: var(--fill-color);\n",
              "    }\n",
              "    30% {\n",
              "      border-color: transparent;\n",
              "      border-left-color: var(--fill-color);\n",
              "      border-top-color: var(--fill-color);\n",
              "      border-right-color: var(--fill-color);\n",
              "    }\n",
              "    40% {\n",
              "      border-color: transparent;\n",
              "      border-right-color: var(--fill-color);\n",
              "      border-top-color: var(--fill-color);\n",
              "    }\n",
              "    60% {\n",
              "      border-color: transparent;\n",
              "      border-right-color: var(--fill-color);\n",
              "    }\n",
              "    80% {\n",
              "      border-color: transparent;\n",
              "      border-right-color: var(--fill-color);\n",
              "      border-bottom-color: var(--fill-color);\n",
              "    }\n",
              "    90% {\n",
              "      border-color: transparent;\n",
              "      border-bottom-color: var(--fill-color);\n",
              "    }\n",
              "  }\n",
              "</style>\n",
              "\n",
              "  <script>\n",
              "    async function quickchart(key) {\n",
              "      const quickchartButtonEl =\n",
              "        document.querySelector('#' + key + ' button');\n",
              "      quickchartButtonEl.disabled = true;  // To prevent multiple clicks.\n",
              "      quickchartButtonEl.classList.add('colab-df-spinner');\n",
              "      try {\n",
              "        const charts = await google.colab.kernel.invokeFunction(\n",
              "            'suggestCharts', [key], {});\n",
              "      } catch (error) {\n",
              "        console.error('Error during call to suggestCharts:', error);\n",
              "      }\n",
              "      quickchartButtonEl.classList.remove('colab-df-spinner');\n",
              "      quickchartButtonEl.classList.add('colab-df-quickchart-complete');\n",
              "    }\n",
              "    (() => {\n",
              "      let quickchartButtonEl =\n",
              "        document.querySelector('#df-dd6c9fa7-31a8-40f5-83b2-92143fff464d button');\n",
              "      quickchartButtonEl.style.display =\n",
              "        google.colab.kernel.accessAllowed ? 'block' : 'none';\n",
              "    })();\n",
              "  </script>\n",
              "</div>\n",
              "    </div>\n",
              "  </div>\n"
            ],
            "application/vnd.google.colaboratory.intrinsic+json": {
              "type": "dataframe"
            }
          },
          "metadata": {},
          "execution_count": 7
        }
      ]
    },
    {
      "cell_type": "code",
      "source": [
        "train_df['target'].value_counts(normalize=True)"
      ],
      "metadata": {
        "colab": {
          "base_uri": "https://localhost:8080/"
        },
        "id": "AFXFcm-WznPW",
        "outputId": "0c6d2a00-359e-45a3-9134-b202cc0ced58"
      },
      "execution_count": 8,
      "outputs": [
        {
          "output_type": "execute_result",
          "data": {
            "text/plain": [
              "0    0.978649\n",
              "1    0.021351\n",
              "Name: target, dtype: float64"
            ]
          },
          "metadata": {},
          "execution_count": 8
        }
      ]
    },
    {
      "cell_type": "code",
      "source": [
        "cols =train_df.nunique()==1\n",
        "cols = cols[cols==1]\n",
        "cols"
      ],
      "metadata": {
        "colab": {
          "base_uri": "https://localhost:8080/"
        },
        "id": "KcqyzYYz8a0n",
        "outputId": "70c8ef7c-b2b7-404d-c6da-e65c1e2a8084"
      },
      "execution_count": 9,
      "outputs": [
        {
          "output_type": "execute_result",
          "data": {
            "text/plain": [
              "feature_0     True\n",
              "feature_73    True\n",
              "feature_74    True\n",
              "feature_75    True\n",
              "dtype: bool"
            ]
          },
          "metadata": {},
          "execution_count": 9
        }
      ]
    },
    {
      "cell_type": "markdown",
      "source": [
        "4 признака имеют лишь 1 уникальное значение, их можно убрать из датасета"
      ],
      "metadata": {
        "id": "Enu-TohO9XSr"
      }
    },
    {
      "cell_type": "code",
      "source": [
        "for df in [train_df,test_df]:\n",
        "  df = df.drop(['feature_0','feature_73','feature_74','feature_75'],axis=1,inplace=True)"
      ],
      "metadata": {
        "id": "Pwa8ArB-9e3w"
      },
      "execution_count": 10,
      "outputs": []
    },
    {
      "cell_type": "code",
      "source": [
        "corr = train_df.corr()\n",
        "mask = np.triu(np.ones_like(corr, dtype=bool))\n",
        "f, ax = plt.subplots(figsize=(11, 9))\n",
        "cmap = sns.diverging_palette(230, 20, as_cmap=True)\n",
        "sns.heatmap(corr, mask=mask, cmap=cmap, center=0,\n",
        "            square=True, linewidths=.5, cbar_kws={\"shrink\": .5})"
      ],
      "metadata": {
        "colab": {
          "base_uri": "https://localhost:8080/",
          "height": 823
        },
        "id": "FGkiAT3b_f5Z",
        "outputId": "b52c3706-1d50-48c7-f6f6-f50858d425c8"
      },
      "execution_count": 11,
      "outputs": [
        {
          "output_type": "execute_result",
          "data": {
            "text/plain": [
              "<Axes: >"
            ]
          },
          "metadata": {},
          "execution_count": 11
        },
        {
          "output_type": "display_data",
          "data": {
            "text/plain": [
              "<Figure size 1100x900 with 2 Axes>"
            ],
            "image/png": "[encoded data removed]"
          },
          "metadata": {}
        }
      ]
    },
    {
      "cell_type": "code",
      "source": [
        "corr_matrix = train_df.corr().abs()\n",
        "corr_series = corr_matrix.stack()\n",
        "high_corr_features = corr_series[(corr_series > 0.9) & (corr_series.index.get_level_values(0) != corr_series.index.get_level_values(1))].index.tolist()\n",
        "print(high_corr_features)"
      ],
      "metadata": {
        "colab": {
          "base_uri": "https://localhost:8080/"
        },
        "id": "jRBrxyj2Ad1Q",
        "outputId": "ae1ce99e-0e00-4d3d-a7f5-d20ebaec249f"
      },
      "execution_count": 12,
      "outputs": [
        {
          "output_type": "stream",
          "name": "stdout",
          "text": [
            "[('feature_3', 'feature_4'), ('feature_4', 'feature_3'), ('feature_12', 'feature_60'), ('feature_53', 'feature_63'), ('feature_60', 'feature_12'), ('feature_63', 'feature_53'), ('feature_63', 'feature_65'), ('feature_65', 'feature_63'), ('feature_71', 'feature_72'), ('feature_72', 'feature_71'), ('feature_77', 'feature_78'), ('feature_78', 'feature_77')]\n"
          ]
        }
      ]
    },
    {
      "cell_type": "code",
      "source": [
        "drop_cols = ['feature_3','feature_12','feature_63','feature_71','feature_77']"
      ],
      "metadata": {
        "id": "IMKAAhwmBJzw"
      },
      "execution_count": 13,
      "outputs": []
    },
    {
      "cell_type": "code",
      "source": [
        "for df in [train_df,test_df]:\n",
        "  df = df.drop(drop_cols,axis=1,inplace=True)"
      ],
      "metadata": {
        "id": "MC-JU938BWeU"
      },
      "execution_count": 14,
      "outputs": []
    },
    {
      "cell_type": "code",
      "source": [
        "cat_cols = []\n",
        "for column in train_df.columns:\n",
        "    if train_df[column].nunique() <20:\n",
        "        cat_cols.append(column)\n",
        "cat_cols=cat_cols[:-1]\n",
        "for df in [train_df,test_df]:\n",
        "  df[cat_cols] = df[cat_cols].astype(\"string\")"
      ],
      "metadata": {
        "id": "9lO-DMsemOIM"
      },
      "execution_count": 15,
      "outputs": []
    },
    {
      "cell_type": "markdown",
      "source": [
        "ndcg с удалением столбцов 0.5096\n",
        "macro avg f1 0.61"
      ],
      "metadata": {
        "id": "nX10UdBReAE_"
      }
    },
    {
      "cell_type": "code",
      "source": [
        "col_use = [c for c in train_df.columns if c not in [\"target\",'search_id']]\n"
      ],
      "metadata": {
        "id": "dwI7ap9wby4O"
      },
      "execution_count": 16,
      "outputs": []
    },
    {
      "cell_type": "code",
      "source": [
        "cat_idx=[]\n",
        "categorical_columns = df.dtypes.loc[df.dtypes == 'string'].index\n",
        "print(categorical_columns)\n",
        "for column in categorical_columns:\n",
        "  index = df.columns.get_loc(column)\n",
        "  cat_idx.append(index)\n",
        "cat_idx=[x-1 for x in cat_idx]"
      ],
      "metadata": {
        "colab": {
          "base_uri": "https://localhost:8080/"
        },
        "id": "eVrg6IuTuBR5",
        "outputId": "cbdb5486-ef1d-4125-ffc7-cfbacb5b466a"
      },
      "execution_count": 17,
      "outputs": [
        {
          "output_type": "stream",
          "name": "stdout",
          "text": [
            "Index(['feature_1', 'feature_2', 'feature_4', 'feature_5', 'feature_7',\n",
            "       'feature_8', 'feature_9', 'feature_10', 'feature_11', 'feature_13',\n",
            "       'feature_14', 'feature_15', 'feature_61'],\n",
            "      dtype='object')\n"
          ]
        }
      ]
    },
    {
      "cell_type": "code",
      "source": [
        "X_train = train_df.drop(['search_id','target'], axis=1)#.values\n",
        "y_train = train_df['target']#.values\n",
        "queries_train = train_df['search_id'].values\n",
        "\n",
        "X_test = test_df.drop(['search_id','target'], axis=1)#.values\n",
        "y_test = test_df['target']#.values\n",
        "queries_test = test_df['search_id'].values"
      ],
      "metadata": {
        "id": "dAFyKgJghAwM"
      },
      "execution_count": 18,
      "outputs": []
    },
    {
      "cell_type": "code",
      "source": [
        "num_queries = np.unique(queries_train).shape[0]\n",
        "num_queries"
      ],
      "metadata": {
        "colab": {
          "base_uri": "https://localhost:8080/"
        },
        "id": "mvFnENx-hVuq",
        "outputId": "80dc20c3-04a2-448f-c332-74a352fda20e"
      },
      "execution_count": 19,
      "outputs": [
        {
          "output_type": "execute_result",
          "data": {
            "text/plain": [
              "1000"
            ]
          },
          "metadata": {},
          "execution_count": 19
        }
      ]
    },
    {
      "cell_type": "code",
      "source": [
        "train = Pool(\n",
        "    data=X_train,\n",
        "    label=y_train,\n",
        "    group_id=queries_train,\n",
        "    cat_features=cat_idx,\n",
        ")\n",
        "\n",
        "test = Pool(\n",
        "    data=X_test,\n",
        "    label=y_test,\n",
        "    group_id=queries_test,\n",
        "    cat_features=cat_idx\n",
        "\n",
        ")"
      ],
      "metadata": {
        "id": "wjxq9xzlhb3u"
      },
      "execution_count": 20,
      "outputs": []
    },
    {
      "cell_type": "code",
      "source": [
        "default_parameters  = {\n",
        "    'iterations': 2000,\n",
        "    'custom_metric': ['NDCG'],\n",
        "    'verbose': False,\n",
        "    'random_seed': 42,\n",
        "    \"has_time\":True,\n",
        "    \"metric_period\":4,\n",
        "    \"save_snapshot\":False,\n",
        "    \"use_best_model\":True,\n",
        "}\n",
        "\n",
        "parameters = {}"
      ],
      "metadata": {
        "id": "Erh5llOvheFV"
      },
      "execution_count": 21,
      "outputs": []
    },
    {
      "cell_type": "code",
      "source": [
        "def fit_model(loss_function, additional_params=None, train_pool=train, test_pool=test):\n",
        "    parameters = deepcopy(default_parameters)\n",
        "    parameters['loss_function'] = loss_function\n",
        "    parameters['train_dir'] = loss_function\n",
        "\n",
        "    if additional_params is not None:\n",
        "        parameters.update(additional_params)\n",
        "\n",
        "    model = CatBoostRanker(**parameters)\n",
        "    model.fit(train_pool, eval_set=test_pool, plot=True)\n",
        "\n",
        "    return model"
      ],
      "metadata": {
        "id": "UH2FIAtxhjX4"
      },
      "execution_count": 22,
      "outputs": []
    },
    {
      "cell_type": "code",
      "source": [
        "model = fit_model('YetiRank')"
      ],
      "metadata": {
        "colab": {
          "base_uri": "https://localhost:8080/",
          "height": 17,
          "referenced_widgets": [
            "a70e01f5e29c4dd9a645e7294fa5938a"
          ]
        },
        "id": "RDiOF2YZhlDT",
        "outputId": "b2095982-9475-48cd-a99e-9b5ce5d0a6bc"
      },
      "execution_count": 23,
      "outputs": [
        {
          "output_type": "display_data",
          "data": {
            "text/plain": [
              "MetricVisualizer(layout=Layout(align_self='stretch', height='500px'))"
            ],
            "application/vnd.jupyter.widget-view+json": {
              "version_major": 2,
              "version_minor": 0,
              "model_id": "a70e01f5e29c4dd9a645e7294fa5938a"
            }
          },
          "metadata": {}
        }
      ]
    },
    {
      "cell_type": "code",
      "source": [
        "ndcg = model.score(test_df.drop(['search_id','target'],axis=1), test_df['target'],test_df['search_id'])"
      ],
      "metadata": {
        "id": "Ca6l8RamuWB-"
      },
      "execution_count": 24,
      "outputs": []
    },
    {
      "cell_type": "code",
      "source": [
        "print(ndcg)"
      ],
      "metadata": {
        "colab": {
          "base_uri": "https://localhost:8080/"
        },
        "id": "Htvrw3G2kbxV",
        "outputId": "6fe9ce74-99da-48ec-cabc-1c8dfe0bc592"
      },
      "execution_count": 25,
      "outputs": [
        {
          "output_type": "stream",
          "name": "stdout",
          "text": [
            "0.927258487128681\n"
          ]
        }
      ]
    },
    {
      "cell_type": "code",
      "source": [],
      "metadata": {
        "id": "vAUOMhVd3Jfv"
      },
      "execution_count": 25,
      "outputs": []
    }
  ]
}